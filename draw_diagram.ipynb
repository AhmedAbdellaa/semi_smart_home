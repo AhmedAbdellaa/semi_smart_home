{
 "cells": [
  {
   "attachments": {},
   "cell_type": "markdown",
   "metadata": {},
   "source": [
    "## Import Libraries"
   ]
  },
  {
   "cell_type": "code",
   "execution_count": 1,
   "metadata": {},
   "outputs": [],
   "source": [
    "import numpy as np\n",
    "import pandas as pd\n",
    "import matplotlib.pyplot as plt\n",
    "import plotly_express as px"
   ]
  },
  {
   "attachments": {},
   "cell_type": "markdown",
   "metadata": {},
   "source": [
    "## import csv data"
   ]
  },
  {
   "cell_type": "code",
   "execution_count": 2,
   "metadata": {},
   "outputs": [],
   "source": [
    "df = pd.read_csv(\"./data.csv\")"
   ]
  },
  {
   "attachments": {},
   "cell_type": "markdown",
   "metadata": {},
   "source": [
    "## data exploration"
   ]
  },
  {
   "cell_type": "code",
   "execution_count": 3,
   "metadata": {},
   "outputs": [
    {
     "name": "stdout",
     "output_type": "stream",
     "text": [
      "<class 'pandas.core.frame.DataFrame'>\n",
      "RangeIndex: 242 entries, 0 to 241\n",
      "Data columns (total 3 columns):\n",
      " #   Column     Non-Null Count  Dtype \n",
      "---  ------     --------------  ----- \n",
      " 0   date_time  242 non-null    object\n",
      " 1   temp       242 non-null    int64 \n",
      " 2   light      242 non-null    int64 \n",
      "dtypes: int64(2), object(1)\n",
      "memory usage: 5.8+ KB\n",
      "None\n"
     ]
    },
    {
     "data": {
      "text/html": [
       "<div>\n",
       "<style scoped>\n",
       "    .dataframe tbody tr th:only-of-type {\n",
       "        vertical-align: middle;\n",
       "    }\n",
       "\n",
       "    .dataframe tbody tr th {\n",
       "        vertical-align: top;\n",
       "    }\n",
       "\n",
       "    .dataframe thead th {\n",
       "        text-align: right;\n",
       "    }\n",
       "</style>\n",
       "<table border=\"1\" class=\"dataframe\">\n",
       "  <thead>\n",
       "    <tr style=\"text-align: right;\">\n",
       "      <th></th>\n",
       "      <th>date_time</th>\n",
       "      <th>temp</th>\n",
       "      <th>light</th>\n",
       "    </tr>\n",
       "  </thead>\n",
       "  <tbody>\n",
       "    <tr>\n",
       "      <th>0</th>\n",
       "      <td>2023-07-03_12:29:21</td>\n",
       "      <td>33</td>\n",
       "      <td>23</td>\n",
       "    </tr>\n",
       "    <tr>\n",
       "      <th>1</th>\n",
       "      <td>2023-07-03_12:31:35</td>\n",
       "      <td>34</td>\n",
       "      <td>23</td>\n",
       "    </tr>\n",
       "    <tr>\n",
       "      <th>2</th>\n",
       "      <td>2023-07-03_12:36:35</td>\n",
       "      <td>35</td>\n",
       "      <td>22</td>\n",
       "    </tr>\n",
       "    <tr>\n",
       "      <th>3</th>\n",
       "      <td>2023-07-03_12:41:35</td>\n",
       "      <td>34</td>\n",
       "      <td>10</td>\n",
       "    </tr>\n",
       "    <tr>\n",
       "      <th>4</th>\n",
       "      <td>2023-07-03_12:46:35</td>\n",
       "      <td>34</td>\n",
       "      <td>15</td>\n",
       "    </tr>\n",
       "  </tbody>\n",
       "</table>\n",
       "</div>"
      ],
      "text/plain": [
       "             date_time  temp  light\n",
       "0  2023-07-03_12:29:21    33     23\n",
       "1  2023-07-03_12:31:35    34     23\n",
       "2  2023-07-03_12:36:35    35     22\n",
       "3  2023-07-03_12:41:35    34     10\n",
       "4  2023-07-03_12:46:35    34     15"
      ]
     },
     "execution_count": 3,
     "metadata": {},
     "output_type": "execute_result"
    }
   ],
   "source": [
    "print(df.info())\n",
    "df.head()"
   ]
  },
  {
   "cell_type": "code",
   "execution_count": 4,
   "metadata": {},
   "outputs": [
    {
     "data": {
      "text/html": [
       "<div>\n",
       "<style scoped>\n",
       "    .dataframe tbody tr th:only-of-type {\n",
       "        vertical-align: middle;\n",
       "    }\n",
       "\n",
       "    .dataframe tbody tr th {\n",
       "        vertical-align: top;\n",
       "    }\n",
       "\n",
       "    .dataframe thead th {\n",
       "        text-align: right;\n",
       "    }\n",
       "</style>\n",
       "<table border=\"1\" class=\"dataframe\">\n",
       "  <thead>\n",
       "    <tr style=\"text-align: right;\">\n",
       "      <th></th>\n",
       "      <th>temp</th>\n",
       "      <th>light</th>\n",
       "    </tr>\n",
       "  </thead>\n",
       "  <tbody>\n",
       "    <tr>\n",
       "      <th>count</th>\n",
       "      <td>242.000000</td>\n",
       "      <td>242.000000</td>\n",
       "    </tr>\n",
       "    <tr>\n",
       "      <th>mean</th>\n",
       "      <td>35.512397</td>\n",
       "      <td>11.892562</td>\n",
       "    </tr>\n",
       "    <tr>\n",
       "      <th>std</th>\n",
       "      <td>1.876324</td>\n",
       "      <td>16.042113</td>\n",
       "    </tr>\n",
       "    <tr>\n",
       "      <th>min</th>\n",
       "      <td>32.000000</td>\n",
       "      <td>0.000000</td>\n",
       "    </tr>\n",
       "    <tr>\n",
       "      <th>25%</th>\n",
       "      <td>34.000000</td>\n",
       "      <td>0.000000</td>\n",
       "    </tr>\n",
       "    <tr>\n",
       "      <th>50%</th>\n",
       "      <td>36.000000</td>\n",
       "      <td>4.000000</td>\n",
       "    </tr>\n",
       "    <tr>\n",
       "      <th>75%</th>\n",
       "      <td>37.000000</td>\n",
       "      <td>17.000000</td>\n",
       "    </tr>\n",
       "    <tr>\n",
       "      <th>max</th>\n",
       "      <td>38.000000</td>\n",
       "      <td>60.000000</td>\n",
       "    </tr>\n",
       "  </tbody>\n",
       "</table>\n",
       "</div>"
      ],
      "text/plain": [
       "             temp       light\n",
       "count  242.000000  242.000000\n",
       "mean    35.512397   11.892562\n",
       "std      1.876324   16.042113\n",
       "min     32.000000    0.000000\n",
       "25%     34.000000    0.000000\n",
       "50%     36.000000    4.000000\n",
       "75%     37.000000   17.000000\n",
       "max     38.000000   60.000000"
      ]
     },
     "execution_count": 4,
     "metadata": {},
     "output_type": "execute_result"
    }
   ],
   "source": [
    "df.describe()"
   ]
  },
  {
   "cell_type": "code",
   "execution_count": 5,
   "metadata": {},
   "outputs": [],
   "source": [
    "#convert date column from object to date\n",
    "df['date_time'] = pd.to_datetime(df['date_time'],format=\"%Y-%m-%d_%H:%M:%S\")"
   ]
  },
  {
   "cell_type": "code",
   "execution_count": 6,
   "metadata": {},
   "outputs": [
    {
     "data": {
      "text/html": [
       "<div>\n",
       "<style scoped>\n",
       "    .dataframe tbody tr th:only-of-type {\n",
       "        vertical-align: middle;\n",
       "    }\n",
       "\n",
       "    .dataframe tbody tr th {\n",
       "        vertical-align: top;\n",
       "    }\n",
       "\n",
       "    .dataframe thead th {\n",
       "        text-align: right;\n",
       "    }\n",
       "</style>\n",
       "<table border=\"1\" class=\"dataframe\">\n",
       "  <thead>\n",
       "    <tr style=\"text-align: right;\">\n",
       "      <th></th>\n",
       "      <th>temp</th>\n",
       "      <th>light</th>\n",
       "    </tr>\n",
       "    <tr>\n",
       "      <th>date_time</th>\n",
       "      <th></th>\n",
       "      <th></th>\n",
       "    </tr>\n",
       "  </thead>\n",
       "  <tbody>\n",
       "    <tr>\n",
       "      <th>2023-07-03 12:29:21</th>\n",
       "      <td>33</td>\n",
       "      <td>23</td>\n",
       "    </tr>\n",
       "    <tr>\n",
       "      <th>2023-07-03 12:31:35</th>\n",
       "      <td>34</td>\n",
       "      <td>23</td>\n",
       "    </tr>\n",
       "    <tr>\n",
       "      <th>2023-07-03 12:36:35</th>\n",
       "      <td>35</td>\n",
       "      <td>22</td>\n",
       "    </tr>\n",
       "    <tr>\n",
       "      <th>2023-07-03 12:41:35</th>\n",
       "      <td>34</td>\n",
       "      <td>10</td>\n",
       "    </tr>\n",
       "    <tr>\n",
       "      <th>2023-07-03 12:46:35</th>\n",
       "      <td>34</td>\n",
       "      <td>15</td>\n",
       "    </tr>\n",
       "  </tbody>\n",
       "</table>\n",
       "</div>"
      ],
      "text/plain": [
       "                     temp  light\n",
       "date_time                       \n",
       "2023-07-03 12:29:21    33     23\n",
       "2023-07-03 12:31:35    34     23\n",
       "2023-07-03 12:36:35    35     22\n",
       "2023-07-03 12:41:35    34     10\n",
       "2023-07-03 12:46:35    34     15"
      ]
     },
     "execution_count": 6,
     "metadata": {},
     "output_type": "execute_result"
    }
   ],
   "source": [
    "df.set_index('date_time',inplace= True)\n",
    "df.head()"
   ]
  },
  {
   "attachments": {},
   "cell_type": "markdown",
   "metadata": {},
   "source": [
    "## data visualization"
   ]
  },
  {
   "cell_type": "code",
   "execution_count": 7,
   "metadata": {},
   "outputs": [
    {
     "data": {
      "application/vnd.plotly.v1+json": {
       "config": {
        "plotlyServerURL": "https://plot.ly"
       },
       "data": [
        {
         "hovertemplate": "variable=temp<br>date_time=%{x}<br>value=%{y}<extra></extra>",
         "legendgroup": "temp",
         "line": {
          "color": "#636efa",
          "dash": "solid"
         },
         "marker": {
          "symbol": "circle"
         },
         "mode": "lines",
         "name": "temp",
         "orientation": "v",
         "showlegend": true,
         "type": "scatter",
         "x": [
          "2023-07-03T12:29:21",
          "2023-07-03T12:31:35",
          "2023-07-03T12:36:35",
          "2023-07-03T12:41:35",
          "2023-07-03T12:46:35",
          "2023-07-03T12:51:35",
          "2023-07-03T12:56:35",
          "2023-07-03T13:01:35",
          "2023-07-03T13:06:35",
          "2023-07-03T13:11:35",
          "2023-07-03T13:16:35",
          "2023-07-03T13:21:35",
          "2023-07-03T13:26:35",
          "2023-07-03T13:31:35",
          "2023-07-03T13:36:35",
          "2023-07-03T13:41:35",
          "2023-07-03T13:46:35",
          "2023-07-03T13:51:35",
          "2023-07-03T13:56:35",
          "2023-07-03T14:01:35",
          "2023-07-03T14:06:35",
          "2023-07-03T14:11:35",
          "2023-07-03T14:16:35",
          "2023-07-03T14:21:35",
          "2023-07-03T14:26:35",
          "2023-07-03T14:31:35",
          "2023-07-03T14:36:35",
          "2023-07-03T14:41:35",
          "2023-07-03T14:46:35",
          "2023-07-03T14:51:35",
          "2023-07-03T14:56:35",
          "2023-07-03T15:01:35",
          "2023-07-03T15:06:35",
          "2023-07-03T15:11:35",
          "2023-07-03T15:16:35",
          "2023-07-03T15:21:35",
          "2023-07-03T15:26:35",
          "2023-07-03T15:31:35",
          "2023-07-03T15:36:35",
          "2023-07-03T15:41:35",
          "2023-07-03T15:46:35",
          "2023-07-03T15:51:35",
          "2023-07-03T15:56:35",
          "2023-07-03T16:01:35",
          "2023-07-03T16:06:35",
          "2023-07-03T16:11:35",
          "2023-07-03T16:16:35",
          "2023-07-03T16:21:35",
          "2023-07-03T16:26:35",
          "2023-07-03T16:31:35",
          "2023-07-03T16:36:35",
          "2023-07-03T16:41:35",
          "2023-07-03T16:46:35",
          "2023-07-03T16:51:35",
          "2023-07-03T16:56:35",
          "2023-07-03T17:01:35",
          "2023-07-03T17:06:35",
          "2023-07-03T17:11:35",
          "2023-07-03T17:16:35",
          "2023-07-03T17:21:35",
          "2023-07-03T17:26:35",
          "2023-07-03T17:31:35",
          "2023-07-03T17:36:35",
          "2023-07-03T17:41:35",
          "2023-07-03T17:46:35",
          "2023-07-03T17:51:35",
          "2023-07-03T17:56:35",
          "2023-07-03T18:01:35",
          "2023-07-03T18:06:35",
          "2023-07-03T18:11:35",
          "2023-07-03T18:16:35",
          "2023-07-03T18:21:35",
          "2023-07-03T18:26:35",
          "2023-07-03T18:31:35",
          "2023-07-03T18:36:35",
          "2023-07-03T18:41:35",
          "2023-07-03T18:46:35",
          "2023-07-03T18:51:35",
          "2023-07-03T18:56:36",
          "2023-07-03T19:01:36",
          "2023-07-03T19:06:36",
          "2023-07-03T19:11:35",
          "2023-07-03T19:16:35",
          "2023-07-03T19:21:35",
          "2023-07-03T19:26:35",
          "2023-07-03T19:31:35",
          "2023-07-03T19:36:35",
          "2023-07-03T19:41:35",
          "2023-07-03T19:46:35",
          "2023-07-03T19:51:35",
          "2023-07-03T19:56:35",
          "2023-07-03T20:01:35",
          "2023-07-03T20:06:36",
          "2023-07-03T20:11:35",
          "2023-07-03T20:16:35",
          "2023-07-03T20:21:36",
          "2023-07-03T20:26:35",
          "2023-07-03T20:31:36",
          "2023-07-03T20:36:35",
          "2023-07-03T20:41:36",
          "2023-07-03T20:46:35",
          "2023-07-03T20:51:35",
          "2023-07-03T20:56:35",
          "2023-07-03T21:01:35",
          "2023-07-03T21:06:36",
          "2023-07-03T21:11:35",
          "2023-07-03T21:16:36",
          "2023-07-03T21:21:35",
          "2023-07-03T21:26:36",
          "2023-07-03T21:31:35",
          "2023-07-03T21:36:35",
          "2023-07-03T21:41:36",
          "2023-07-03T21:46:35",
          "2023-07-03T21:51:36",
          "2023-07-03T21:56:35",
          "2023-07-03T22:01:36",
          "2023-07-03T22:06:35",
          "2023-07-03T22:11:35",
          "2023-07-03T22:16:36",
          "2023-07-03T22:21:35",
          "2023-07-03T22:26:36",
          "2023-07-03T22:31:35",
          "2023-07-03T22:36:35",
          "2023-07-03T22:41:36",
          "2023-07-03T22:46:35",
          "2023-07-03T22:51:35",
          "2023-07-03T22:56:36",
          "2023-07-03T23:01:35",
          "2023-07-03T23:06:35",
          "2023-07-03T23:11:35",
          "2023-07-03T23:16:36",
          "2023-07-03T23:21:35",
          "2023-07-03T23:26:35",
          "2023-07-03T23:31:36",
          "2023-07-03T23:36:35",
          "2023-07-03T23:41:35",
          "2023-07-03T23:46:35",
          "2023-07-03T23:51:35",
          "2023-07-03T23:56:35",
          "2023-07-04T00:01:35",
          "2023-07-04T00:06:35",
          "2023-07-04T00:11:35",
          "2023-07-04T00:16:35",
          "2023-07-04T00:21:35",
          "2023-07-04T00:26:35",
          "2023-07-04T00:31:36",
          "2023-07-04T00:36:35",
          "2023-07-04T00:41:36",
          "2023-07-04T00:46:36",
          "2023-07-04T00:51:36",
          "2023-07-04T00:56:35",
          "2023-07-04T01:01:36",
          "2023-07-04T01:06:35",
          "2023-07-04T01:11:35",
          "2023-07-04T01:16:35",
          "2023-07-04T01:21:35",
          "2023-07-04T01:26:35",
          "2023-07-04T01:31:35",
          "2023-07-04T01:36:35",
          "2023-07-04T01:41:35",
          "2023-07-04T01:46:35",
          "2023-07-04T01:51:35",
          "2023-07-04T01:56:35",
          "2023-07-04T02:01:35",
          "2023-07-04T02:06:35",
          "2023-07-04T02:11:35",
          "2023-07-04T02:16:36",
          "2023-07-04T02:21:36",
          "2023-07-04T02:26:36",
          "2023-07-04T02:31:36",
          "2023-07-04T02:36:36",
          "2023-07-04T02:41:36",
          "2023-07-04T02:46:36",
          "2023-07-04T02:51:36",
          "2023-07-04T02:56:36",
          "2023-07-04T03:01:36",
          "2023-07-04T03:06:36",
          "2023-07-04T03:11:36",
          "2023-07-04T03:16:36",
          "2023-07-04T03:21:36",
          "2023-07-04T03:26:36",
          "2023-07-04T03:31:36",
          "2023-07-04T03:36:36",
          "2023-07-04T03:41:36",
          "2023-07-04T03:46:36",
          "2023-07-04T03:51:36",
          "2023-07-04T03:56:36",
          "2023-07-04T04:01:36",
          "2023-07-04T04:06:36",
          "2023-07-04T04:11:36",
          "2023-07-04T04:16:36",
          "2023-07-04T04:21:36",
          "2023-07-04T04:26:36",
          "2023-07-04T04:31:37",
          "2023-07-04T04:36:37",
          "2023-07-04T04:41:36",
          "2023-07-04T04:46:36",
          "2023-07-04T04:51:36",
          "2023-07-04T04:56:36",
          "2023-07-04T05:01:37",
          "2023-07-04T05:06:36",
          "2023-07-04T05:11:36",
          "2023-07-04T05:16:36",
          "2023-07-04T05:21:36",
          "2023-07-04T05:26:36",
          "2023-07-04T05:31:36",
          "2023-07-04T05:36:36",
          "2023-07-04T05:41:36",
          "2023-07-04T05:46:36",
          "2023-07-04T05:51:36",
          "2023-07-04T05:56:36",
          "2023-07-04T06:01:36",
          "2023-07-04T06:06:36",
          "2023-07-04T06:11:36",
          "2023-07-04T06:16:36",
          "2023-07-04T06:21:36",
          "2023-07-04T06:26:36",
          "2023-07-04T06:31:37",
          "2023-07-04T06:36:37",
          "2023-07-04T06:41:36",
          "2023-07-04T06:46:36",
          "2023-07-04T06:51:36",
          "2023-07-04T06:56:36",
          "2023-07-04T07:01:36",
          "2023-07-04T07:06:36",
          "2023-07-04T07:11:36",
          "2023-07-04T07:16:36",
          "2023-07-04T07:21:36",
          "2023-07-04T07:26:36",
          "2023-07-04T07:31:36",
          "2023-07-04T07:36:36",
          "2023-07-04T07:41:36",
          "2023-07-04T07:46:36",
          "2023-07-04T07:51:36",
          "2023-07-04T07:56:36",
          "2023-07-04T08:01:36",
          "2023-07-04T08:06:36",
          "2023-07-04T08:11:36",
          "2023-07-04T08:16:37",
          "2023-07-04T08:21:36",
          "2023-07-04T08:26:36",
          "2023-07-04T08:31:36"
         ],
         "xaxis": "x",
         "y": [
          33,
          34,
          35,
          34,
          34,
          34,
          35,
          35,
          35,
          35,
          35,
          35,
          35,
          35,
          36,
          36,
          36,
          36,
          35,
          35,
          35,
          35,
          35,
          35,
          36,
          36,
          36,
          36,
          36,
          36,
          36,
          36,
          37,
          37,
          37,
          37,
          37,
          37,
          37,
          37,
          37,
          37,
          37,
          38,
          37,
          37,
          37,
          37,
          37,
          37,
          37,
          37,
          37,
          37,
          38,
          38,
          38,
          37,
          38,
          38,
          38,
          38,
          38,
          38,
          38,
          38,
          38,
          38,
          38,
          38,
          38,
          38,
          38,
          38,
          38,
          38,
          38,
          38,
          38,
          38,
          38,
          38,
          38,
          38,
          38,
          38,
          38,
          38,
          38,
          38,
          38,
          38,
          38,
          37,
          37,
          37,
          38,
          37,
          37,
          37,
          38,
          37,
          37,
          37,
          37,
          37,
          37,
          37,
          37,
          37,
          37,
          37,
          37,
          37,
          37,
          37,
          37,
          37,
          37,
          37,
          37,
          37,
          37,
          37,
          37,
          37,
          36,
          36,
          36,
          36,
          36,
          36,
          36,
          36,
          36,
          36,
          36,
          36,
          36,
          36,
          36,
          36,
          36,
          36,
          35,
          35,
          35,
          35,
          33,
          35,
          35,
          35,
          37,
          35,
          35,
          34,
          35,
          36,
          35,
          35,
          35,
          35,
          35,
          35,
          35,
          34,
          35,
          35,
          35,
          35,
          35,
          35,
          35,
          35,
          34,
          34,
          35,
          34,
          34,
          34,
          34,
          34,
          34,
          34,
          34,
          34,
          34,
          34,
          34,
          34,
          34,
          33,
          34,
          34,
          33,
          33,
          33,
          33,
          33,
          34,
          33,
          34,
          34,
          33,
          33,
          33,
          33,
          33,
          33,
          33,
          33,
          33,
          33,
          33,
          34,
          33,
          33,
          33,
          33,
          33,
          33,
          33,
          33,
          33,
          33,
          33,
          32,
          32,
          32,
          32,
          32,
          32,
          32,
          32,
          32,
          32,
          32,
          32,
          32,
          32,
          32,
          32
         ],
         "yaxis": "y"
        }
       ],
       "layout": {
        "legend": {
         "title": {
          "text": "variable"
         },
         "tracegroupgap": 0
        },
        "template": {
         "data": {
          "bar": [
           {
            "error_x": {
             "color": "#2a3f5f"
            },
            "error_y": {
             "color": "#2a3f5f"
            },
            "marker": {
             "line": {
              "color": "#E5ECF6",
              "width": 0.5
             },
             "pattern": {
              "fillmode": "overlay",
              "size": 10,
              "solidity": 0.2
             }
            },
            "type": "bar"
           }
          ],
          "barpolar": [
           {
            "marker": {
             "line": {
              "color": "#E5ECF6",
              "width": 0.5
             },
             "pattern": {
              "fillmode": "overlay",
              "size": 10,
              "solidity": 0.2
             }
            },
            "type": "barpolar"
           }
          ],
          "carpet": [
           {
            "aaxis": {
             "endlinecolor": "#2a3f5f",
             "gridcolor": "white",
             "linecolor": "white",
             "minorgridcolor": "white",
             "startlinecolor": "#2a3f5f"
            },
            "baxis": {
             "endlinecolor": "#2a3f5f",
             "gridcolor": "white",
             "linecolor": "white",
             "minorgridcolor": "white",
             "startlinecolor": "#2a3f5f"
            },
            "type": "carpet"
           }
          ],
          "choropleth": [
           {
            "colorbar": {
             "outlinewidth": 0,
             "ticks": ""
            },
            "type": "choropleth"
           }
          ],
          "contour": [
           {
            "colorbar": {
             "outlinewidth": 0,
             "ticks": ""
            },
            "colorscale": [
             [
              0,
              "#0d0887"
             ],
             [
              0.1111111111111111,
              "#46039f"
             ],
             [
              0.2222222222222222,
              "#7201a8"
             ],
             [
              0.3333333333333333,
              "#9c179e"
             ],
             [
              0.4444444444444444,
              "#bd3786"
             ],
             [
              0.5555555555555556,
              "#d8576b"
             ],
             [
              0.6666666666666666,
              "#ed7953"
             ],
             [
              0.7777777777777778,
              "#fb9f3a"
             ],
             [
              0.8888888888888888,
              "#fdca26"
             ],
             [
              1,
              "#f0f921"
             ]
            ],
            "type": "contour"
           }
          ],
          "contourcarpet": [
           {
            "colorbar": {
             "outlinewidth": 0,
             "ticks": ""
            },
            "type": "contourcarpet"
           }
          ],
          "heatmap": [
           {
            "colorbar": {
             "outlinewidth": 0,
             "ticks": ""
            },
            "colorscale": [
             [
              0,
              "#0d0887"
             ],
             [
              0.1111111111111111,
              "#46039f"
             ],
             [
              0.2222222222222222,
              "#7201a8"
             ],
             [
              0.3333333333333333,
              "#9c179e"
             ],
             [
              0.4444444444444444,
              "#bd3786"
             ],
             [
              0.5555555555555556,
              "#d8576b"
             ],
             [
              0.6666666666666666,
              "#ed7953"
             ],
             [
              0.7777777777777778,
              "#fb9f3a"
             ],
             [
              0.8888888888888888,
              "#fdca26"
             ],
             [
              1,
              "#f0f921"
             ]
            ],
            "type": "heatmap"
           }
          ],
          "heatmapgl": [
           {
            "colorbar": {
             "outlinewidth": 0,
             "ticks": ""
            },
            "colorscale": [
             [
              0,
              "#0d0887"
             ],
             [
              0.1111111111111111,
              "#46039f"
             ],
             [
              0.2222222222222222,
              "#7201a8"
             ],
             [
              0.3333333333333333,
              "#9c179e"
             ],
             [
              0.4444444444444444,
              "#bd3786"
             ],
             [
              0.5555555555555556,
              "#d8576b"
             ],
             [
              0.6666666666666666,
              "#ed7953"
             ],
             [
              0.7777777777777778,
              "#fb9f3a"
             ],
             [
              0.8888888888888888,
              "#fdca26"
             ],
             [
              1,
              "#f0f921"
             ]
            ],
            "type": "heatmapgl"
           }
          ],
          "histogram": [
           {
            "marker": {
             "pattern": {
              "fillmode": "overlay",
              "size": 10,
              "solidity": 0.2
             }
            },
            "type": "histogram"
           }
          ],
          "histogram2d": [
           {
            "colorbar": {
             "outlinewidth": 0,
             "ticks": ""
            },
            "colorscale": [
             [
              0,
              "#0d0887"
             ],
             [
              0.1111111111111111,
              "#46039f"
             ],
             [
              0.2222222222222222,
              "#7201a8"
             ],
             [
              0.3333333333333333,
              "#9c179e"
             ],
             [
              0.4444444444444444,
              "#bd3786"
             ],
             [
              0.5555555555555556,
              "#d8576b"
             ],
             [
              0.6666666666666666,
              "#ed7953"
             ],
             [
              0.7777777777777778,
              "#fb9f3a"
             ],
             [
              0.8888888888888888,
              "#fdca26"
             ],
             [
              1,
              "#f0f921"
             ]
            ],
            "type": "histogram2d"
           }
          ],
          "histogram2dcontour": [
           {
            "colorbar": {
             "outlinewidth": 0,
             "ticks": ""
            },
            "colorscale": [
             [
              0,
              "#0d0887"
             ],
             [
              0.1111111111111111,
              "#46039f"
             ],
             [
              0.2222222222222222,
              "#7201a8"
             ],
             [
              0.3333333333333333,
              "#9c179e"
             ],
             [
              0.4444444444444444,
              "#bd3786"
             ],
             [
              0.5555555555555556,
              "#d8576b"
             ],
             [
              0.6666666666666666,
              "#ed7953"
             ],
             [
              0.7777777777777778,
              "#fb9f3a"
             ],
             [
              0.8888888888888888,
              "#fdca26"
             ],
             [
              1,
              "#f0f921"
             ]
            ],
            "type": "histogram2dcontour"
           }
          ],
          "mesh3d": [
           {
            "colorbar": {
             "outlinewidth": 0,
             "ticks": ""
            },
            "type": "mesh3d"
           }
          ],
          "parcoords": [
           {
            "line": {
             "colorbar": {
              "outlinewidth": 0,
              "ticks": ""
             }
            },
            "type": "parcoords"
           }
          ],
          "pie": [
           {
            "automargin": true,
            "type": "pie"
           }
          ],
          "scatter": [
           {
            "fillpattern": {
             "fillmode": "overlay",
             "size": 10,
             "solidity": 0.2
            },
            "type": "scatter"
           }
          ],
          "scatter3d": [
           {
            "line": {
             "colorbar": {
              "outlinewidth": 0,
              "ticks": ""
             }
            },
            "marker": {
             "colorbar": {
              "outlinewidth": 0,
              "ticks": ""
             }
            },
            "type": "scatter3d"
           }
          ],
          "scattercarpet": [
           {
            "marker": {
             "colorbar": {
              "outlinewidth": 0,
              "ticks": ""
             }
            },
            "type": "scattercarpet"
           }
          ],
          "scattergeo": [
           {
            "marker": {
             "colorbar": {
              "outlinewidth": 0,
              "ticks": ""
             }
            },
            "type": "scattergeo"
           }
          ],
          "scattergl": [
           {
            "marker": {
             "colorbar": {
              "outlinewidth": 0,
              "ticks": ""
             }
            },
            "type": "scattergl"
           }
          ],
          "scattermapbox": [
           {
            "marker": {
             "colorbar": {
              "outlinewidth": 0,
              "ticks": ""
             }
            },
            "type": "scattermapbox"
           }
          ],
          "scatterpolar": [
           {
            "marker": {
             "colorbar": {
              "outlinewidth": 0,
              "ticks": ""
             }
            },
            "type": "scatterpolar"
           }
          ],
          "scatterpolargl": [
           {
            "marker": {
             "colorbar": {
              "outlinewidth": 0,
              "ticks": ""
             }
            },
            "type": "scatterpolargl"
           }
          ],
          "scatterternary": [
           {
            "marker": {
             "colorbar": {
              "outlinewidth": 0,
              "ticks": ""
             }
            },
            "type": "scatterternary"
           }
          ],
          "surface": [
           {
            "colorbar": {
             "outlinewidth": 0,
             "ticks": ""
            },
            "colorscale": [
             [
              0,
              "#0d0887"
             ],
             [
              0.1111111111111111,
              "#46039f"
             ],
             [
              0.2222222222222222,
              "#7201a8"
             ],
             [
              0.3333333333333333,
              "#9c179e"
             ],
             [
              0.4444444444444444,
              "#bd3786"
             ],
             [
              0.5555555555555556,
              "#d8576b"
             ],
             [
              0.6666666666666666,
              "#ed7953"
             ],
             [
              0.7777777777777778,
              "#fb9f3a"
             ],
             [
              0.8888888888888888,
              "#fdca26"
             ],
             [
              1,
              "#f0f921"
             ]
            ],
            "type": "surface"
           }
          ],
          "table": [
           {
            "cells": {
             "fill": {
              "color": "#EBF0F8"
             },
             "line": {
              "color": "white"
             }
            },
            "header": {
             "fill": {
              "color": "#C8D4E3"
             },
             "line": {
              "color": "white"
             }
            },
            "type": "table"
           }
          ]
         },
         "layout": {
          "annotationdefaults": {
           "arrowcolor": "#2a3f5f",
           "arrowhead": 0,
           "arrowwidth": 1
          },
          "autotypenumbers": "strict",
          "coloraxis": {
           "colorbar": {
            "outlinewidth": 0,
            "ticks": ""
           }
          },
          "colorscale": {
           "diverging": [
            [
             0,
             "#8e0152"
            ],
            [
             0.1,
             "#c51b7d"
            ],
            [
             0.2,
             "#de77ae"
            ],
            [
             0.3,
             "#f1b6da"
            ],
            [
             0.4,
             "#fde0ef"
            ],
            [
             0.5,
             "#f7f7f7"
            ],
            [
             0.6,
             "#e6f5d0"
            ],
            [
             0.7,
             "#b8e186"
            ],
            [
             0.8,
             "#7fbc41"
            ],
            [
             0.9,
             "#4d9221"
            ],
            [
             1,
             "#276419"
            ]
           ],
           "sequential": [
            [
             0,
             "#0d0887"
            ],
            [
             0.1111111111111111,
             "#46039f"
            ],
            [
             0.2222222222222222,
             "#7201a8"
            ],
            [
             0.3333333333333333,
             "#9c179e"
            ],
            [
             0.4444444444444444,
             "#bd3786"
            ],
            [
             0.5555555555555556,
             "#d8576b"
            ],
            [
             0.6666666666666666,
             "#ed7953"
            ],
            [
             0.7777777777777778,
             "#fb9f3a"
            ],
            [
             0.8888888888888888,
             "#fdca26"
            ],
            [
             1,
             "#f0f921"
            ]
           ],
           "sequentialminus": [
            [
             0,
             "#0d0887"
            ],
            [
             0.1111111111111111,
             "#46039f"
            ],
            [
             0.2222222222222222,
             "#7201a8"
            ],
            [
             0.3333333333333333,
             "#9c179e"
            ],
            [
             0.4444444444444444,
             "#bd3786"
            ],
            [
             0.5555555555555556,
             "#d8576b"
            ],
            [
             0.6666666666666666,
             "#ed7953"
            ],
            [
             0.7777777777777778,
             "#fb9f3a"
            ],
            [
             0.8888888888888888,
             "#fdca26"
            ],
            [
             1,
             "#f0f921"
            ]
           ]
          },
          "colorway": [
           "#636efa",
           "#EF553B",
           "#00cc96",
           "#ab63fa",
           "#FFA15A",
           "#19d3f3",
           "#FF6692",
           "#B6E880",
           "#FF97FF",
           "#FECB52"
          ],
          "font": {
           "color": "#2a3f5f"
          },
          "geo": {
           "bgcolor": "white",
           "lakecolor": "white",
           "landcolor": "#E5ECF6",
           "showlakes": true,
           "showland": true,
           "subunitcolor": "white"
          },
          "hoverlabel": {
           "align": "left"
          },
          "hovermode": "closest",
          "mapbox": {
           "style": "light"
          },
          "paper_bgcolor": "white",
          "plot_bgcolor": "#E5ECF6",
          "polar": {
           "angularaxis": {
            "gridcolor": "white",
            "linecolor": "white",
            "ticks": ""
           },
           "bgcolor": "#E5ECF6",
           "radialaxis": {
            "gridcolor": "white",
            "linecolor": "white",
            "ticks": ""
           }
          },
          "scene": {
           "xaxis": {
            "backgroundcolor": "#E5ECF6",
            "gridcolor": "white",
            "gridwidth": 2,
            "linecolor": "white",
            "showbackground": true,
            "ticks": "",
            "zerolinecolor": "white"
           },
           "yaxis": {
            "backgroundcolor": "#E5ECF6",
            "gridcolor": "white",
            "gridwidth": 2,
            "linecolor": "white",
            "showbackground": true,
            "ticks": "",
            "zerolinecolor": "white"
           },
           "zaxis": {
            "backgroundcolor": "#E5ECF6",
            "gridcolor": "white",
            "gridwidth": 2,
            "linecolor": "white",
            "showbackground": true,
            "ticks": "",
            "zerolinecolor": "white"
           }
          },
          "shapedefaults": {
           "line": {
            "color": "#2a3f5f"
           }
          },
          "ternary": {
           "aaxis": {
            "gridcolor": "white",
            "linecolor": "white",
            "ticks": ""
           },
           "baxis": {
            "gridcolor": "white",
            "linecolor": "white",
            "ticks": ""
           },
           "bgcolor": "#E5ECF6",
           "caxis": {
            "gridcolor": "white",
            "linecolor": "white",
            "ticks": ""
           }
          },
          "title": {
           "x": 0.05
          },
          "xaxis": {
           "automargin": true,
           "gridcolor": "white",
           "linecolor": "white",
           "ticks": "",
           "title": {
            "standoff": 15
           },
           "zerolinecolor": "white",
           "zerolinewidth": 2
          },
          "yaxis": {
           "automargin": true,
           "gridcolor": "white",
           "linecolor": "white",
           "ticks": "",
           "title": {
            "standoff": 15
           },
           "zerolinecolor": "white",
           "zerolinewidth": 2
          }
         }
        },
        "title": {
         "text": "temperature across the day"
        },
        "xaxis": {
         "anchor": "y",
         "domain": [
          0,
          1
         ],
         "title": {
          "text": "date_time"
         }
        },
        "yaxis": {
         "anchor": "x",
         "domain": [
          0,
          1
         ],
         "title": {
          "text": "value"
         }
        }
       }
      }
     },
     "metadata": {},
     "output_type": "display_data"
    },
    {
     "data": {
      "application/vnd.plotly.v1+json": {
       "config": {
        "plotlyServerURL": "https://plot.ly"
       },
       "data": [
        {
         "hovertemplate": "variable=light<br>date_time=%{x}<br>value=%{y}<extra></extra>",
         "legendgroup": "light",
         "line": {
          "color": "#636efa",
          "dash": "solid"
         },
         "marker": {
          "symbol": "circle"
         },
         "mode": "lines",
         "name": "light",
         "orientation": "v",
         "showlegend": true,
         "type": "scatter",
         "x": [
          "2023-07-03T12:29:21",
          "2023-07-03T12:31:35",
          "2023-07-03T12:36:35",
          "2023-07-03T12:41:35",
          "2023-07-03T12:46:35",
          "2023-07-03T12:51:35",
          "2023-07-03T12:56:35",
          "2023-07-03T13:01:35",
          "2023-07-03T13:06:35",
          "2023-07-03T13:11:35",
          "2023-07-03T13:16:35",
          "2023-07-03T13:21:35",
          "2023-07-03T13:26:35",
          "2023-07-03T13:31:35",
          "2023-07-03T13:36:35",
          "2023-07-03T13:41:35",
          "2023-07-03T13:46:35",
          "2023-07-03T13:51:35",
          "2023-07-03T13:56:35",
          "2023-07-03T14:01:35",
          "2023-07-03T14:06:35",
          "2023-07-03T14:11:35",
          "2023-07-03T14:16:35",
          "2023-07-03T14:21:35",
          "2023-07-03T14:26:35",
          "2023-07-03T14:31:35",
          "2023-07-03T14:36:35",
          "2023-07-03T14:41:35",
          "2023-07-03T14:46:35",
          "2023-07-03T14:51:35",
          "2023-07-03T14:56:35",
          "2023-07-03T15:01:35",
          "2023-07-03T15:06:35",
          "2023-07-03T15:11:35",
          "2023-07-03T15:16:35",
          "2023-07-03T15:21:35",
          "2023-07-03T15:26:35",
          "2023-07-03T15:31:35",
          "2023-07-03T15:36:35",
          "2023-07-03T15:41:35",
          "2023-07-03T15:46:35",
          "2023-07-03T15:51:35",
          "2023-07-03T15:56:35",
          "2023-07-03T16:01:35",
          "2023-07-03T16:06:35",
          "2023-07-03T16:11:35",
          "2023-07-03T16:16:35",
          "2023-07-03T16:21:35",
          "2023-07-03T16:26:35",
          "2023-07-03T16:31:35",
          "2023-07-03T16:36:35",
          "2023-07-03T16:41:35",
          "2023-07-03T16:46:35",
          "2023-07-03T16:51:35",
          "2023-07-03T16:56:35",
          "2023-07-03T17:01:35",
          "2023-07-03T17:06:35",
          "2023-07-03T17:11:35",
          "2023-07-03T17:16:35",
          "2023-07-03T17:21:35",
          "2023-07-03T17:26:35",
          "2023-07-03T17:31:35",
          "2023-07-03T17:36:35",
          "2023-07-03T17:41:35",
          "2023-07-03T17:46:35",
          "2023-07-03T17:51:35",
          "2023-07-03T17:56:35",
          "2023-07-03T18:01:35",
          "2023-07-03T18:06:35",
          "2023-07-03T18:11:35",
          "2023-07-03T18:16:35",
          "2023-07-03T18:21:35",
          "2023-07-03T18:26:35",
          "2023-07-03T18:31:35",
          "2023-07-03T18:36:35",
          "2023-07-03T18:41:35",
          "2023-07-03T18:46:35",
          "2023-07-03T18:51:35",
          "2023-07-03T18:56:36",
          "2023-07-03T19:01:36",
          "2023-07-03T19:06:36",
          "2023-07-03T19:11:35",
          "2023-07-03T19:16:35",
          "2023-07-03T19:21:35",
          "2023-07-03T19:26:35",
          "2023-07-03T19:31:35",
          "2023-07-03T19:36:35",
          "2023-07-03T19:41:35",
          "2023-07-03T19:46:35",
          "2023-07-03T19:51:35",
          "2023-07-03T19:56:35",
          "2023-07-03T20:01:35",
          "2023-07-03T20:06:36",
          "2023-07-03T20:11:35",
          "2023-07-03T20:16:35",
          "2023-07-03T20:21:36",
          "2023-07-03T20:26:35",
          "2023-07-03T20:31:36",
          "2023-07-03T20:36:35",
          "2023-07-03T20:41:36",
          "2023-07-03T20:46:35",
          "2023-07-03T20:51:35",
          "2023-07-03T20:56:35",
          "2023-07-03T21:01:35",
          "2023-07-03T21:06:36",
          "2023-07-03T21:11:35",
          "2023-07-03T21:16:36",
          "2023-07-03T21:21:35",
          "2023-07-03T21:26:36",
          "2023-07-03T21:31:35",
          "2023-07-03T21:36:35",
          "2023-07-03T21:41:36",
          "2023-07-03T21:46:35",
          "2023-07-03T21:51:36",
          "2023-07-03T21:56:35",
          "2023-07-03T22:01:36",
          "2023-07-03T22:06:35",
          "2023-07-03T22:11:35",
          "2023-07-03T22:16:36",
          "2023-07-03T22:21:35",
          "2023-07-03T22:26:36",
          "2023-07-03T22:31:35",
          "2023-07-03T22:36:35",
          "2023-07-03T22:41:36",
          "2023-07-03T22:46:35",
          "2023-07-03T22:51:35",
          "2023-07-03T22:56:36",
          "2023-07-03T23:01:35",
          "2023-07-03T23:06:35",
          "2023-07-03T23:11:35",
          "2023-07-03T23:16:36",
          "2023-07-03T23:21:35",
          "2023-07-03T23:26:35",
          "2023-07-03T23:31:36",
          "2023-07-03T23:36:35",
          "2023-07-03T23:41:35",
          "2023-07-03T23:46:35",
          "2023-07-03T23:51:35",
          "2023-07-03T23:56:35",
          "2023-07-04T00:01:35",
          "2023-07-04T00:06:35",
          "2023-07-04T00:11:35",
          "2023-07-04T00:16:35",
          "2023-07-04T00:21:35",
          "2023-07-04T00:26:35",
          "2023-07-04T00:31:36",
          "2023-07-04T00:36:35",
          "2023-07-04T00:41:36",
          "2023-07-04T00:46:36",
          "2023-07-04T00:51:36",
          "2023-07-04T00:56:35",
          "2023-07-04T01:01:36",
          "2023-07-04T01:06:35",
          "2023-07-04T01:11:35",
          "2023-07-04T01:16:35",
          "2023-07-04T01:21:35",
          "2023-07-04T01:26:35",
          "2023-07-04T01:31:35",
          "2023-07-04T01:36:35",
          "2023-07-04T01:41:35",
          "2023-07-04T01:46:35",
          "2023-07-04T01:51:35",
          "2023-07-04T01:56:35",
          "2023-07-04T02:01:35",
          "2023-07-04T02:06:35",
          "2023-07-04T02:11:35",
          "2023-07-04T02:16:36",
          "2023-07-04T02:21:36",
          "2023-07-04T02:26:36",
          "2023-07-04T02:31:36",
          "2023-07-04T02:36:36",
          "2023-07-04T02:41:36",
          "2023-07-04T02:46:36",
          "2023-07-04T02:51:36",
          "2023-07-04T02:56:36",
          "2023-07-04T03:01:36",
          "2023-07-04T03:06:36",
          "2023-07-04T03:11:36",
          "2023-07-04T03:16:36",
          "2023-07-04T03:21:36",
          "2023-07-04T03:26:36",
          "2023-07-04T03:31:36",
          "2023-07-04T03:36:36",
          "2023-07-04T03:41:36",
          "2023-07-04T03:46:36",
          "2023-07-04T03:51:36",
          "2023-07-04T03:56:36",
          "2023-07-04T04:01:36",
          "2023-07-04T04:06:36",
          "2023-07-04T04:11:36",
          "2023-07-04T04:16:36",
          "2023-07-04T04:21:36",
          "2023-07-04T04:26:36",
          "2023-07-04T04:31:37",
          "2023-07-04T04:36:37",
          "2023-07-04T04:41:36",
          "2023-07-04T04:46:36",
          "2023-07-04T04:51:36",
          "2023-07-04T04:56:36",
          "2023-07-04T05:01:37",
          "2023-07-04T05:06:36",
          "2023-07-04T05:11:36",
          "2023-07-04T05:16:36",
          "2023-07-04T05:21:36",
          "2023-07-04T05:26:36",
          "2023-07-04T05:31:36",
          "2023-07-04T05:36:36",
          "2023-07-04T05:41:36",
          "2023-07-04T05:46:36",
          "2023-07-04T05:51:36",
          "2023-07-04T05:56:36",
          "2023-07-04T06:01:36",
          "2023-07-04T06:06:36",
          "2023-07-04T06:11:36",
          "2023-07-04T06:16:36",
          "2023-07-04T06:21:36",
          "2023-07-04T06:26:36",
          "2023-07-04T06:31:37",
          "2023-07-04T06:36:37",
          "2023-07-04T06:41:36",
          "2023-07-04T06:46:36",
          "2023-07-04T06:51:36",
          "2023-07-04T06:56:36",
          "2023-07-04T07:01:36",
          "2023-07-04T07:06:36",
          "2023-07-04T07:11:36",
          "2023-07-04T07:16:36",
          "2023-07-04T07:21:36",
          "2023-07-04T07:26:36",
          "2023-07-04T07:31:36",
          "2023-07-04T07:36:36",
          "2023-07-04T07:41:36",
          "2023-07-04T07:46:36",
          "2023-07-04T07:51:36",
          "2023-07-04T07:56:36",
          "2023-07-04T08:01:36",
          "2023-07-04T08:06:36",
          "2023-07-04T08:11:36",
          "2023-07-04T08:16:37",
          "2023-07-04T08:21:36",
          "2023-07-04T08:26:36",
          "2023-07-04T08:31:36"
         ],
         "xaxis": "x",
         "y": [
          23,
          23,
          22,
          10,
          15,
          26,
          26,
          27,
          27,
          20,
          24,
          26,
          20,
          29,
          30,
          29,
          18,
          20,
          30,
          33,
          34,
          32,
          34,
          36,
          36,
          37,
          38,
          38,
          39,
          40,
          38,
          33,
          42,
          35,
          30,
          43,
          40,
          42,
          45,
          40,
          43,
          37,
          45,
          49,
          48,
          50,
          51,
          51,
          54,
          51,
          51,
          53,
          53,
          53,
          54,
          54,
          55,
          60,
          11,
          9,
          11,
          13,
          14,
          14,
          14,
          16,
          15,
          15,
          9,
          12,
          12,
          14,
          11,
          11,
          10,
          10,
          9,
          6,
          5,
          7,
          4,
          3,
          3,
          2,
          2,
          1,
          1,
          1,
          0,
          0,
          0,
          0,
          0,
          0,
          0,
          0,
          0,
          0,
          0,
          0,
          0,
          0,
          0,
          0,
          0,
          0,
          0,
          0,
          0,
          0,
          0,
          0,
          0,
          0,
          0,
          0,
          0,
          0,
          0,
          0,
          0,
          0,
          0,
          0,
          0,
          0,
          0,
          0,
          0,
          0,
          0,
          0,
          0,
          0,
          0,
          0,
          0,
          0,
          0,
          0,
          0,
          0,
          0,
          0,
          0,
          0,
          0,
          0,
          3,
          5,
          4,
          6,
          5,
          9,
          10,
          10,
          10,
          10,
          10,
          10,
          10,
          0,
          0,
          0,
          0,
          0,
          0,
          0,
          0,
          0,
          0,
          0,
          0,
          0,
          0,
          0,
          0,
          0,
          0,
          0,
          0,
          0,
          0,
          0,
          0,
          0,
          0,
          0,
          0,
          0,
          0,
          0,
          0,
          0,
          0,
          0,
          0,
          0,
          0,
          0,
          0,
          0,
          0,
          0,
          0,
          0,
          0,
          0,
          1,
          1,
          2,
          2,
          3,
          4,
          5,
          5,
          7,
          7,
          8,
          9,
          8,
          10,
          11,
          12,
          10,
          13,
          13,
          13,
          14,
          15,
          11,
          16,
          17,
          17,
          17,
          17,
          14,
          11,
          19,
          20,
          17,
          20
         ],
         "yaxis": "y"
        }
       ],
       "layout": {
        "legend": {
         "title": {
          "text": "variable"
         },
         "tracegroupgap": 0
        },
        "template": {
         "data": {
          "bar": [
           {
            "error_x": {
             "color": "#2a3f5f"
            },
            "error_y": {
             "color": "#2a3f5f"
            },
            "marker": {
             "line": {
              "color": "#E5ECF6",
              "width": 0.5
             },
             "pattern": {
              "fillmode": "overlay",
              "size": 10,
              "solidity": 0.2
             }
            },
            "type": "bar"
           }
          ],
          "barpolar": [
           {
            "marker": {
             "line": {
              "color": "#E5ECF6",
              "width": 0.5
             },
             "pattern": {
              "fillmode": "overlay",
              "size": 10,
              "solidity": 0.2
             }
            },
            "type": "barpolar"
           }
          ],
          "carpet": [
           {
            "aaxis": {
             "endlinecolor": "#2a3f5f",
             "gridcolor": "white",
             "linecolor": "white",
             "minorgridcolor": "white",
             "startlinecolor": "#2a3f5f"
            },
            "baxis": {
             "endlinecolor": "#2a3f5f",
             "gridcolor": "white",
             "linecolor": "white",
             "minorgridcolor": "white",
             "startlinecolor": "#2a3f5f"
            },
            "type": "carpet"
           }
          ],
          "choropleth": [
           {
            "colorbar": {
             "outlinewidth": 0,
             "ticks": ""
            },
            "type": "choropleth"
           }
          ],
          "contour": [
           {
            "colorbar": {
             "outlinewidth": 0,
             "ticks": ""
            },
            "colorscale": [
             [
              0,
              "#0d0887"
             ],
             [
              0.1111111111111111,
              "#46039f"
             ],
             [
              0.2222222222222222,
              "#7201a8"
             ],
             [
              0.3333333333333333,
              "#9c179e"
             ],
             [
              0.4444444444444444,
              "#bd3786"
             ],
             [
              0.5555555555555556,
              "#d8576b"
             ],
             [
              0.6666666666666666,
              "#ed7953"
             ],
             [
              0.7777777777777778,
              "#fb9f3a"
             ],
             [
              0.8888888888888888,
              "#fdca26"
             ],
             [
              1,
              "#f0f921"
             ]
            ],
            "type": "contour"
           }
          ],
          "contourcarpet": [
           {
            "colorbar": {
             "outlinewidth": 0,
             "ticks": ""
            },
            "type": "contourcarpet"
           }
          ],
          "heatmap": [
           {
            "colorbar": {
             "outlinewidth": 0,
             "ticks": ""
            },
            "colorscale": [
             [
              0,
              "#0d0887"
             ],
             [
              0.1111111111111111,
              "#46039f"
             ],
             [
              0.2222222222222222,
              "#7201a8"
             ],
             [
              0.3333333333333333,
              "#9c179e"
             ],
             [
              0.4444444444444444,
              "#bd3786"
             ],
             [
              0.5555555555555556,
              "#d8576b"
             ],
             [
              0.6666666666666666,
              "#ed7953"
             ],
             [
              0.7777777777777778,
              "#fb9f3a"
             ],
             [
              0.8888888888888888,
              "#fdca26"
             ],
             [
              1,
              "#f0f921"
             ]
            ],
            "type": "heatmap"
           }
          ],
          "heatmapgl": [
           {
            "colorbar": {
             "outlinewidth": 0,
             "ticks": ""
            },
            "colorscale": [
             [
              0,
              "#0d0887"
             ],
             [
              0.1111111111111111,
              "#46039f"
             ],
             [
              0.2222222222222222,
              "#7201a8"
             ],
             [
              0.3333333333333333,
              "#9c179e"
             ],
             [
              0.4444444444444444,
              "#bd3786"
             ],
             [
              0.5555555555555556,
              "#d8576b"
             ],
             [
              0.6666666666666666,
              "#ed7953"
             ],
             [
              0.7777777777777778,
              "#fb9f3a"
             ],
             [
              0.8888888888888888,
              "#fdca26"
             ],
             [
              1,
              "#f0f921"
             ]
            ],
            "type": "heatmapgl"
           }
          ],
          "histogram": [
           {
            "marker": {
             "pattern": {
              "fillmode": "overlay",
              "size": 10,
              "solidity": 0.2
             }
            },
            "type": "histogram"
           }
          ],
          "histogram2d": [
           {
            "colorbar": {
             "outlinewidth": 0,
             "ticks": ""
            },
            "colorscale": [
             [
              0,
              "#0d0887"
             ],
             [
              0.1111111111111111,
              "#46039f"
             ],
             [
              0.2222222222222222,
              "#7201a8"
             ],
             [
              0.3333333333333333,
              "#9c179e"
             ],
             [
              0.4444444444444444,
              "#bd3786"
             ],
             [
              0.5555555555555556,
              "#d8576b"
             ],
             [
              0.6666666666666666,
              "#ed7953"
             ],
             [
              0.7777777777777778,
              "#fb9f3a"
             ],
             [
              0.8888888888888888,
              "#fdca26"
             ],
             [
              1,
              "#f0f921"
             ]
            ],
            "type": "histogram2d"
           }
          ],
          "histogram2dcontour": [
           {
            "colorbar": {
             "outlinewidth": 0,
             "ticks": ""
            },
            "colorscale": [
             [
              0,
              "#0d0887"
             ],
             [
              0.1111111111111111,
              "#46039f"
             ],
             [
              0.2222222222222222,
              "#7201a8"
             ],
             [
              0.3333333333333333,
              "#9c179e"
             ],
             [
              0.4444444444444444,
              "#bd3786"
             ],
             [
              0.5555555555555556,
              "#d8576b"
             ],
             [
              0.6666666666666666,
              "#ed7953"
             ],
             [
              0.7777777777777778,
              "#fb9f3a"
             ],
             [
              0.8888888888888888,
              "#fdca26"
             ],
             [
              1,
              "#f0f921"
             ]
            ],
            "type": "histogram2dcontour"
           }
          ],
          "mesh3d": [
           {
            "colorbar": {
             "outlinewidth": 0,
             "ticks": ""
            },
            "type": "mesh3d"
           }
          ],
          "parcoords": [
           {
            "line": {
             "colorbar": {
              "outlinewidth": 0,
              "ticks": ""
             }
            },
            "type": "parcoords"
           }
          ],
          "pie": [
           {
            "automargin": true,
            "type": "pie"
           }
          ],
          "scatter": [
           {
            "fillpattern": {
             "fillmode": "overlay",
             "size": 10,
             "solidity": 0.2
            },
            "type": "scatter"
           }
          ],
          "scatter3d": [
           {
            "line": {
             "colorbar": {
              "outlinewidth": 0,
              "ticks": ""
             }
            },
            "marker": {
             "colorbar": {
              "outlinewidth": 0,
              "ticks": ""
             }
            },
            "type": "scatter3d"
           }
          ],
          "scattercarpet": [
           {
            "marker": {
             "colorbar": {
              "outlinewidth": 0,
              "ticks": ""
             }
            },
            "type": "scattercarpet"
           }
          ],
          "scattergeo": [
           {
            "marker": {
             "colorbar": {
              "outlinewidth": 0,
              "ticks": ""
             }
            },
            "type": "scattergeo"
           }
          ],
          "scattergl": [
           {
            "marker": {
             "colorbar": {
              "outlinewidth": 0,
              "ticks": ""
             }
            },
            "type": "scattergl"
           }
          ],
          "scattermapbox": [
           {
            "marker": {
             "colorbar": {
              "outlinewidth": 0,
              "ticks": ""
             }
            },
            "type": "scattermapbox"
           }
          ],
          "scatterpolar": [
           {
            "marker": {
             "colorbar": {
              "outlinewidth": 0,
              "ticks": ""
             }
            },
            "type": "scatterpolar"
           }
          ],
          "scatterpolargl": [
           {
            "marker": {
             "colorbar": {
              "outlinewidth": 0,
              "ticks": ""
             }
            },
            "type": "scatterpolargl"
           }
          ],
          "scatterternary": [
           {
            "marker": {
             "colorbar": {
              "outlinewidth": 0,
              "ticks": ""
             }
            },
            "type": "scatterternary"
           }
          ],
          "surface": [
           {
            "colorbar": {
             "outlinewidth": 0,
             "ticks": ""
            },
            "colorscale": [
             [
              0,
              "#0d0887"
             ],
             [
              0.1111111111111111,
              "#46039f"
             ],
             [
              0.2222222222222222,
              "#7201a8"
             ],
             [
              0.3333333333333333,
              "#9c179e"
             ],
             [
              0.4444444444444444,
              "#bd3786"
             ],
             [
              0.5555555555555556,
              "#d8576b"
             ],
             [
              0.6666666666666666,
              "#ed7953"
             ],
             [
              0.7777777777777778,
              "#fb9f3a"
             ],
             [
              0.8888888888888888,
              "#fdca26"
             ],
             [
              1,
              "#f0f921"
             ]
            ],
            "type": "surface"
           }
          ],
          "table": [
           {
            "cells": {
             "fill": {
              "color": "#EBF0F8"
             },
             "line": {
              "color": "white"
             }
            },
            "header": {
             "fill": {
              "color": "#C8D4E3"
             },
             "line": {
              "color": "white"
             }
            },
            "type": "table"
           }
          ]
         },
         "layout": {
          "annotationdefaults": {
           "arrowcolor": "#2a3f5f",
           "arrowhead": 0,
           "arrowwidth": 1
          },
          "autotypenumbers": "strict",
          "coloraxis": {
           "colorbar": {
            "outlinewidth": 0,
            "ticks": ""
           }
          },
          "colorscale": {
           "diverging": [
            [
             0,
             "#8e0152"
            ],
            [
             0.1,
             "#c51b7d"
            ],
            [
             0.2,
             "#de77ae"
            ],
            [
             0.3,
             "#f1b6da"
            ],
            [
             0.4,
             "#fde0ef"
            ],
            [
             0.5,
             "#f7f7f7"
            ],
            [
             0.6,
             "#e6f5d0"
            ],
            [
             0.7,
             "#b8e186"
            ],
            [
             0.8,
             "#7fbc41"
            ],
            [
             0.9,
             "#4d9221"
            ],
            [
             1,
             "#276419"
            ]
           ],
           "sequential": [
            [
             0,
             "#0d0887"
            ],
            [
             0.1111111111111111,
             "#46039f"
            ],
            [
             0.2222222222222222,
             "#7201a8"
            ],
            [
             0.3333333333333333,
             "#9c179e"
            ],
            [
             0.4444444444444444,
             "#bd3786"
            ],
            [
             0.5555555555555556,
             "#d8576b"
            ],
            [
             0.6666666666666666,
             "#ed7953"
            ],
            [
             0.7777777777777778,
             "#fb9f3a"
            ],
            [
             0.8888888888888888,
             "#fdca26"
            ],
            [
             1,
             "#f0f921"
            ]
           ],
           "sequentialminus": [
            [
             0,
             "#0d0887"
            ],
            [
             0.1111111111111111,
             "#46039f"
            ],
            [
             0.2222222222222222,
             "#7201a8"
            ],
            [
             0.3333333333333333,
             "#9c179e"
            ],
            [
             0.4444444444444444,
             "#bd3786"
            ],
            [
             0.5555555555555556,
             "#d8576b"
            ],
            [
             0.6666666666666666,
             "#ed7953"
            ],
            [
             0.7777777777777778,
             "#fb9f3a"
            ],
            [
             0.8888888888888888,
             "#fdca26"
            ],
            [
             1,
             "#f0f921"
            ]
           ]
          },
          "colorway": [
           "#636efa",
           "#EF553B",
           "#00cc96",
           "#ab63fa",
           "#FFA15A",
           "#19d3f3",
           "#FF6692",
           "#B6E880",
           "#FF97FF",
           "#FECB52"
          ],
          "font": {
           "color": "#2a3f5f"
          },
          "geo": {
           "bgcolor": "white",
           "lakecolor": "white",
           "landcolor": "#E5ECF6",
           "showlakes": true,
           "showland": true,
           "subunitcolor": "white"
          },
          "hoverlabel": {
           "align": "left"
          },
          "hovermode": "closest",
          "mapbox": {
           "style": "light"
          },
          "paper_bgcolor": "white",
          "plot_bgcolor": "#E5ECF6",
          "polar": {
           "angularaxis": {
            "gridcolor": "white",
            "linecolor": "white",
            "ticks": ""
           },
           "bgcolor": "#E5ECF6",
           "radialaxis": {
            "gridcolor": "white",
            "linecolor": "white",
            "ticks": ""
           }
          },
          "scene": {
           "xaxis": {
            "backgroundcolor": "#E5ECF6",
            "gridcolor": "white",
            "gridwidth": 2,
            "linecolor": "white",
            "showbackground": true,
            "ticks": "",
            "zerolinecolor": "white"
           },
           "yaxis": {
            "backgroundcolor": "#E5ECF6",
            "gridcolor": "white",
            "gridwidth": 2,
            "linecolor": "white",
            "showbackground": true,
            "ticks": "",
            "zerolinecolor": "white"
           },
           "zaxis": {
            "backgroundcolor": "#E5ECF6",
            "gridcolor": "white",
            "gridwidth": 2,
            "linecolor": "white",
            "showbackground": true,
            "ticks": "",
            "zerolinecolor": "white"
           }
          },
          "shapedefaults": {
           "line": {
            "color": "#2a3f5f"
           }
          },
          "ternary": {
           "aaxis": {
            "gridcolor": "white",
            "linecolor": "white",
            "ticks": ""
           },
           "baxis": {
            "gridcolor": "white",
            "linecolor": "white",
            "ticks": ""
           },
           "bgcolor": "#E5ECF6",
           "caxis": {
            "gridcolor": "white",
            "linecolor": "white",
            "ticks": ""
           }
          },
          "title": {
           "x": 0.05
          },
          "xaxis": {
           "automargin": true,
           "gridcolor": "white",
           "linecolor": "white",
           "ticks": "",
           "title": {
            "standoff": 15
           },
           "zerolinecolor": "white",
           "zerolinewidth": 2
          },
          "yaxis": {
           "automargin": true,
           "gridcolor": "white",
           "linecolor": "white",
           "ticks": "",
           "title": {
            "standoff": 15
           },
           "zerolinecolor": "white",
           "zerolinewidth": 2
          }
         }
        },
        "title": {
         "text": "Light Intensity across the day"
        },
        "xaxis": {
         "anchor": "y",
         "domain": [
          0,
          1
         ],
         "title": {
          "text": "date_time"
         }
        },
        "yaxis": {
         "anchor": "x",
         "domain": [
          0,
          1
         ],
         "title": {
          "text": "value"
         }
        }
       }
      }
     },
     "metadata": {},
     "output_type": "display_data"
    },
    {
     "data": {
      "application/vnd.plotly.v1+json": {
       "config": {
        "plotlyServerURL": "https://plot.ly"
       },
       "data": [
        {
         "hovertemplate": "variable=temp<br>date_time=%{x}<br>value=%{y}<extra></extra>",
         "legendgroup": "temp",
         "line": {
          "color": "#636efa",
          "dash": "solid"
         },
         "marker": {
          "symbol": "circle"
         },
         "mode": "lines",
         "name": "temp",
         "orientation": "v",
         "showlegend": true,
         "type": "scatter",
         "x": [
          "2023-07-03T12:29:21",
          "2023-07-03T12:31:35",
          "2023-07-03T12:36:35",
          "2023-07-03T12:41:35",
          "2023-07-03T12:46:35",
          "2023-07-03T12:51:35",
          "2023-07-03T12:56:35",
          "2023-07-03T13:01:35",
          "2023-07-03T13:06:35",
          "2023-07-03T13:11:35",
          "2023-07-03T13:16:35",
          "2023-07-03T13:21:35",
          "2023-07-03T13:26:35",
          "2023-07-03T13:31:35",
          "2023-07-03T13:36:35",
          "2023-07-03T13:41:35",
          "2023-07-03T13:46:35",
          "2023-07-03T13:51:35",
          "2023-07-03T13:56:35",
          "2023-07-03T14:01:35",
          "2023-07-03T14:06:35",
          "2023-07-03T14:11:35",
          "2023-07-03T14:16:35",
          "2023-07-03T14:21:35",
          "2023-07-03T14:26:35",
          "2023-07-03T14:31:35",
          "2023-07-03T14:36:35",
          "2023-07-03T14:41:35",
          "2023-07-03T14:46:35",
          "2023-07-03T14:51:35",
          "2023-07-03T14:56:35",
          "2023-07-03T15:01:35",
          "2023-07-03T15:06:35",
          "2023-07-03T15:11:35",
          "2023-07-03T15:16:35",
          "2023-07-03T15:21:35",
          "2023-07-03T15:26:35",
          "2023-07-03T15:31:35",
          "2023-07-03T15:36:35",
          "2023-07-03T15:41:35",
          "2023-07-03T15:46:35",
          "2023-07-03T15:51:35",
          "2023-07-03T15:56:35",
          "2023-07-03T16:01:35",
          "2023-07-03T16:06:35",
          "2023-07-03T16:11:35",
          "2023-07-03T16:16:35",
          "2023-07-03T16:21:35",
          "2023-07-03T16:26:35",
          "2023-07-03T16:31:35",
          "2023-07-03T16:36:35",
          "2023-07-03T16:41:35",
          "2023-07-03T16:46:35",
          "2023-07-03T16:51:35",
          "2023-07-03T16:56:35",
          "2023-07-03T17:01:35",
          "2023-07-03T17:06:35",
          "2023-07-03T17:11:35",
          "2023-07-03T17:16:35",
          "2023-07-03T17:21:35",
          "2023-07-03T17:26:35",
          "2023-07-03T17:31:35",
          "2023-07-03T17:36:35",
          "2023-07-03T17:41:35",
          "2023-07-03T17:46:35",
          "2023-07-03T17:51:35",
          "2023-07-03T17:56:35",
          "2023-07-03T18:01:35",
          "2023-07-03T18:06:35",
          "2023-07-03T18:11:35",
          "2023-07-03T18:16:35",
          "2023-07-03T18:21:35",
          "2023-07-03T18:26:35",
          "2023-07-03T18:31:35",
          "2023-07-03T18:36:35",
          "2023-07-03T18:41:35",
          "2023-07-03T18:46:35",
          "2023-07-03T18:51:35",
          "2023-07-03T18:56:36",
          "2023-07-03T19:01:36",
          "2023-07-03T19:06:36",
          "2023-07-03T19:11:35",
          "2023-07-03T19:16:35",
          "2023-07-03T19:21:35",
          "2023-07-03T19:26:35",
          "2023-07-03T19:31:35",
          "2023-07-03T19:36:35",
          "2023-07-03T19:41:35",
          "2023-07-03T19:46:35",
          "2023-07-03T19:51:35",
          "2023-07-03T19:56:35",
          "2023-07-03T20:01:35",
          "2023-07-03T20:06:36",
          "2023-07-03T20:11:35",
          "2023-07-03T20:16:35",
          "2023-07-03T20:21:36",
          "2023-07-03T20:26:35",
          "2023-07-03T20:31:36",
          "2023-07-03T20:36:35",
          "2023-07-03T20:41:36",
          "2023-07-03T20:46:35",
          "2023-07-03T20:51:35",
          "2023-07-03T20:56:35",
          "2023-07-03T21:01:35",
          "2023-07-03T21:06:36",
          "2023-07-03T21:11:35",
          "2023-07-03T21:16:36",
          "2023-07-03T21:21:35",
          "2023-07-03T21:26:36",
          "2023-07-03T21:31:35",
          "2023-07-03T21:36:35",
          "2023-07-03T21:41:36",
          "2023-07-03T21:46:35",
          "2023-07-03T21:51:36",
          "2023-07-03T21:56:35",
          "2023-07-03T22:01:36",
          "2023-07-03T22:06:35",
          "2023-07-03T22:11:35",
          "2023-07-03T22:16:36",
          "2023-07-03T22:21:35",
          "2023-07-03T22:26:36",
          "2023-07-03T22:31:35",
          "2023-07-03T22:36:35",
          "2023-07-03T22:41:36",
          "2023-07-03T22:46:35",
          "2023-07-03T22:51:35",
          "2023-07-03T22:56:36",
          "2023-07-03T23:01:35",
          "2023-07-03T23:06:35",
          "2023-07-03T23:11:35",
          "2023-07-03T23:16:36",
          "2023-07-03T23:21:35",
          "2023-07-03T23:26:35",
          "2023-07-03T23:31:36",
          "2023-07-03T23:36:35",
          "2023-07-03T23:41:35",
          "2023-07-03T23:46:35",
          "2023-07-03T23:51:35",
          "2023-07-03T23:56:35",
          "2023-07-04T00:01:35",
          "2023-07-04T00:06:35",
          "2023-07-04T00:11:35",
          "2023-07-04T00:16:35",
          "2023-07-04T00:21:35",
          "2023-07-04T00:26:35",
          "2023-07-04T00:31:36",
          "2023-07-04T00:36:35",
          "2023-07-04T00:41:36",
          "2023-07-04T00:46:36",
          "2023-07-04T00:51:36",
          "2023-07-04T00:56:35",
          "2023-07-04T01:01:36",
          "2023-07-04T01:06:35",
          "2023-07-04T01:11:35",
          "2023-07-04T01:16:35",
          "2023-07-04T01:21:35",
          "2023-07-04T01:26:35",
          "2023-07-04T01:31:35",
          "2023-07-04T01:36:35",
          "2023-07-04T01:41:35",
          "2023-07-04T01:46:35",
          "2023-07-04T01:51:35",
          "2023-07-04T01:56:35",
          "2023-07-04T02:01:35",
          "2023-07-04T02:06:35",
          "2023-07-04T02:11:35",
          "2023-07-04T02:16:36",
          "2023-07-04T02:21:36",
          "2023-07-04T02:26:36",
          "2023-07-04T02:31:36",
          "2023-07-04T02:36:36",
          "2023-07-04T02:41:36",
          "2023-07-04T02:46:36",
          "2023-07-04T02:51:36",
          "2023-07-04T02:56:36",
          "2023-07-04T03:01:36",
          "2023-07-04T03:06:36",
          "2023-07-04T03:11:36",
          "2023-07-04T03:16:36",
          "2023-07-04T03:21:36",
          "2023-07-04T03:26:36",
          "2023-07-04T03:31:36",
          "2023-07-04T03:36:36",
          "2023-07-04T03:41:36",
          "2023-07-04T03:46:36",
          "2023-07-04T03:51:36",
          "2023-07-04T03:56:36",
          "2023-07-04T04:01:36",
          "2023-07-04T04:06:36",
          "2023-07-04T04:11:36",
          "2023-07-04T04:16:36",
          "2023-07-04T04:21:36",
          "2023-07-04T04:26:36",
          "2023-07-04T04:31:37",
          "2023-07-04T04:36:37",
          "2023-07-04T04:41:36",
          "2023-07-04T04:46:36",
          "2023-07-04T04:51:36",
          "2023-07-04T04:56:36",
          "2023-07-04T05:01:37",
          "2023-07-04T05:06:36",
          "2023-07-04T05:11:36",
          "2023-07-04T05:16:36",
          "2023-07-04T05:21:36",
          "2023-07-04T05:26:36",
          "2023-07-04T05:31:36",
          "2023-07-04T05:36:36",
          "2023-07-04T05:41:36",
          "2023-07-04T05:46:36",
          "2023-07-04T05:51:36",
          "2023-07-04T05:56:36",
          "2023-07-04T06:01:36",
          "2023-07-04T06:06:36",
          "2023-07-04T06:11:36",
          "2023-07-04T06:16:36",
          "2023-07-04T06:21:36",
          "2023-07-04T06:26:36",
          "2023-07-04T06:31:37",
          "2023-07-04T06:36:37",
          "2023-07-04T06:41:36",
          "2023-07-04T06:46:36",
          "2023-07-04T06:51:36",
          "2023-07-04T06:56:36",
          "2023-07-04T07:01:36",
          "2023-07-04T07:06:36",
          "2023-07-04T07:11:36",
          "2023-07-04T07:16:36",
          "2023-07-04T07:21:36",
          "2023-07-04T07:26:36",
          "2023-07-04T07:31:36",
          "2023-07-04T07:36:36",
          "2023-07-04T07:41:36",
          "2023-07-04T07:46:36",
          "2023-07-04T07:51:36",
          "2023-07-04T07:56:36",
          "2023-07-04T08:01:36",
          "2023-07-04T08:06:36",
          "2023-07-04T08:11:36",
          "2023-07-04T08:16:37",
          "2023-07-04T08:21:36",
          "2023-07-04T08:26:36",
          "2023-07-04T08:31:36"
         ],
         "xaxis": "x",
         "y": [
          33,
          34,
          35,
          34,
          34,
          34,
          35,
          35,
          35,
          35,
          35,
          35,
          35,
          35,
          36,
          36,
          36,
          36,
          35,
          35,
          35,
          35,
          35,
          35,
          36,
          36,
          36,
          36,
          36,
          36,
          36,
          36,
          37,
          37,
          37,
          37,
          37,
          37,
          37,
          37,
          37,
          37,
          37,
          38,
          37,
          37,
          37,
          37,
          37,
          37,
          37,
          37,
          37,
          37,
          38,
          38,
          38,
          37,
          38,
          38,
          38,
          38,
          38,
          38,
          38,
          38,
          38,
          38,
          38,
          38,
          38,
          38,
          38,
          38,
          38,
          38,
          38,
          38,
          38,
          38,
          38,
          38,
          38,
          38,
          38,
          38,
          38,
          38,
          38,
          38,
          38,
          38,
          38,
          37,
          37,
          37,
          38,
          37,
          37,
          37,
          38,
          37,
          37,
          37,
          37,
          37,
          37,
          37,
          37,
          37,
          37,
          37,
          37,
          37,
          37,
          37,
          37,
          37,
          37,
          37,
          37,
          37,
          37,
          37,
          37,
          37,
          36,
          36,
          36,
          36,
          36,
          36,
          36,
          36,
          36,
          36,
          36,
          36,
          36,
          36,
          36,
          36,
          36,
          36,
          35,
          35,
          35,
          35,
          33,
          35,
          35,
          35,
          37,
          35,
          35,
          34,
          35,
          36,
          35,
          35,
          35,
          35,
          35,
          35,
          35,
          34,
          35,
          35,
          35,
          35,
          35,
          35,
          35,
          35,
          34,
          34,
          35,
          34,
          34,
          34,
          34,
          34,
          34,
          34,
          34,
          34,
          34,
          34,
          34,
          34,
          34,
          33,
          34,
          34,
          33,
          33,
          33,
          33,
          33,
          34,
          33,
          34,
          34,
          33,
          33,
          33,
          33,
          33,
          33,
          33,
          33,
          33,
          33,
          33,
          34,
          33,
          33,
          33,
          33,
          33,
          33,
          33,
          33,
          33,
          33,
          33,
          32,
          32,
          32,
          32,
          32,
          32,
          32,
          32,
          32,
          32,
          32,
          32,
          32,
          32,
          32,
          32
         ],
         "yaxis": "y"
        },
        {
         "hovertemplate": "variable=light<br>date_time=%{x}<br>value=%{y}<extra></extra>",
         "legendgroup": "light",
         "line": {
          "color": "#EF553B",
          "dash": "solid"
         },
         "marker": {
          "symbol": "circle"
         },
         "mode": "lines",
         "name": "light",
         "orientation": "v",
         "showlegend": true,
         "type": "scatter",
         "x": [
          "2023-07-03T12:29:21",
          "2023-07-03T12:31:35",
          "2023-07-03T12:36:35",
          "2023-07-03T12:41:35",
          "2023-07-03T12:46:35",
          "2023-07-03T12:51:35",
          "2023-07-03T12:56:35",
          "2023-07-03T13:01:35",
          "2023-07-03T13:06:35",
          "2023-07-03T13:11:35",
          "2023-07-03T13:16:35",
          "2023-07-03T13:21:35",
          "2023-07-03T13:26:35",
          "2023-07-03T13:31:35",
          "2023-07-03T13:36:35",
          "2023-07-03T13:41:35",
          "2023-07-03T13:46:35",
          "2023-07-03T13:51:35",
          "2023-07-03T13:56:35",
          "2023-07-03T14:01:35",
          "2023-07-03T14:06:35",
          "2023-07-03T14:11:35",
          "2023-07-03T14:16:35",
          "2023-07-03T14:21:35",
          "2023-07-03T14:26:35",
          "2023-07-03T14:31:35",
          "2023-07-03T14:36:35",
          "2023-07-03T14:41:35",
          "2023-07-03T14:46:35",
          "2023-07-03T14:51:35",
          "2023-07-03T14:56:35",
          "2023-07-03T15:01:35",
          "2023-07-03T15:06:35",
          "2023-07-03T15:11:35",
          "2023-07-03T15:16:35",
          "2023-07-03T15:21:35",
          "2023-07-03T15:26:35",
          "2023-07-03T15:31:35",
          "2023-07-03T15:36:35",
          "2023-07-03T15:41:35",
          "2023-07-03T15:46:35",
          "2023-07-03T15:51:35",
          "2023-07-03T15:56:35",
          "2023-07-03T16:01:35",
          "2023-07-03T16:06:35",
          "2023-07-03T16:11:35",
          "2023-07-03T16:16:35",
          "2023-07-03T16:21:35",
          "2023-07-03T16:26:35",
          "2023-07-03T16:31:35",
          "2023-07-03T16:36:35",
          "2023-07-03T16:41:35",
          "2023-07-03T16:46:35",
          "2023-07-03T16:51:35",
          "2023-07-03T16:56:35",
          "2023-07-03T17:01:35",
          "2023-07-03T17:06:35",
          "2023-07-03T17:11:35",
          "2023-07-03T17:16:35",
          "2023-07-03T17:21:35",
          "2023-07-03T17:26:35",
          "2023-07-03T17:31:35",
          "2023-07-03T17:36:35",
          "2023-07-03T17:41:35",
          "2023-07-03T17:46:35",
          "2023-07-03T17:51:35",
          "2023-07-03T17:56:35",
          "2023-07-03T18:01:35",
          "2023-07-03T18:06:35",
          "2023-07-03T18:11:35",
          "2023-07-03T18:16:35",
          "2023-07-03T18:21:35",
          "2023-07-03T18:26:35",
          "2023-07-03T18:31:35",
          "2023-07-03T18:36:35",
          "2023-07-03T18:41:35",
          "2023-07-03T18:46:35",
          "2023-07-03T18:51:35",
          "2023-07-03T18:56:36",
          "2023-07-03T19:01:36",
          "2023-07-03T19:06:36",
          "2023-07-03T19:11:35",
          "2023-07-03T19:16:35",
          "2023-07-03T19:21:35",
          "2023-07-03T19:26:35",
          "2023-07-03T19:31:35",
          "2023-07-03T19:36:35",
          "2023-07-03T19:41:35",
          "2023-07-03T19:46:35",
          "2023-07-03T19:51:35",
          "2023-07-03T19:56:35",
          "2023-07-03T20:01:35",
          "2023-07-03T20:06:36",
          "2023-07-03T20:11:35",
          "2023-07-03T20:16:35",
          "2023-07-03T20:21:36",
          "2023-07-03T20:26:35",
          "2023-07-03T20:31:36",
          "2023-07-03T20:36:35",
          "2023-07-03T20:41:36",
          "2023-07-03T20:46:35",
          "2023-07-03T20:51:35",
          "2023-07-03T20:56:35",
          "2023-07-03T21:01:35",
          "2023-07-03T21:06:36",
          "2023-07-03T21:11:35",
          "2023-07-03T21:16:36",
          "2023-07-03T21:21:35",
          "2023-07-03T21:26:36",
          "2023-07-03T21:31:35",
          "2023-07-03T21:36:35",
          "2023-07-03T21:41:36",
          "2023-07-03T21:46:35",
          "2023-07-03T21:51:36",
          "2023-07-03T21:56:35",
          "2023-07-03T22:01:36",
          "2023-07-03T22:06:35",
          "2023-07-03T22:11:35",
          "2023-07-03T22:16:36",
          "2023-07-03T22:21:35",
          "2023-07-03T22:26:36",
          "2023-07-03T22:31:35",
          "2023-07-03T22:36:35",
          "2023-07-03T22:41:36",
          "2023-07-03T22:46:35",
          "2023-07-03T22:51:35",
          "2023-07-03T22:56:36",
          "2023-07-03T23:01:35",
          "2023-07-03T23:06:35",
          "2023-07-03T23:11:35",
          "2023-07-03T23:16:36",
          "2023-07-03T23:21:35",
          "2023-07-03T23:26:35",
          "2023-07-03T23:31:36",
          "2023-07-03T23:36:35",
          "2023-07-03T23:41:35",
          "2023-07-03T23:46:35",
          "2023-07-03T23:51:35",
          "2023-07-03T23:56:35",
          "2023-07-04T00:01:35",
          "2023-07-04T00:06:35",
          "2023-07-04T00:11:35",
          "2023-07-04T00:16:35",
          "2023-07-04T00:21:35",
          "2023-07-04T00:26:35",
          "2023-07-04T00:31:36",
          "2023-07-04T00:36:35",
          "2023-07-04T00:41:36",
          "2023-07-04T00:46:36",
          "2023-07-04T00:51:36",
          "2023-07-04T00:56:35",
          "2023-07-04T01:01:36",
          "2023-07-04T01:06:35",
          "2023-07-04T01:11:35",
          "2023-07-04T01:16:35",
          "2023-07-04T01:21:35",
          "2023-07-04T01:26:35",
          "2023-07-04T01:31:35",
          "2023-07-04T01:36:35",
          "2023-07-04T01:41:35",
          "2023-07-04T01:46:35",
          "2023-07-04T01:51:35",
          "2023-07-04T01:56:35",
          "2023-07-04T02:01:35",
          "2023-07-04T02:06:35",
          "2023-07-04T02:11:35",
          "2023-07-04T02:16:36",
          "2023-07-04T02:21:36",
          "2023-07-04T02:26:36",
          "2023-07-04T02:31:36",
          "2023-07-04T02:36:36",
          "2023-07-04T02:41:36",
          "2023-07-04T02:46:36",
          "2023-07-04T02:51:36",
          "2023-07-04T02:56:36",
          "2023-07-04T03:01:36",
          "2023-07-04T03:06:36",
          "2023-07-04T03:11:36",
          "2023-07-04T03:16:36",
          "2023-07-04T03:21:36",
          "2023-07-04T03:26:36",
          "2023-07-04T03:31:36",
          "2023-07-04T03:36:36",
          "2023-07-04T03:41:36",
          "2023-07-04T03:46:36",
          "2023-07-04T03:51:36",
          "2023-07-04T03:56:36",
          "2023-07-04T04:01:36",
          "2023-07-04T04:06:36",
          "2023-07-04T04:11:36",
          "2023-07-04T04:16:36",
          "2023-07-04T04:21:36",
          "2023-07-04T04:26:36",
          "2023-07-04T04:31:37",
          "2023-07-04T04:36:37",
          "2023-07-04T04:41:36",
          "2023-07-04T04:46:36",
          "2023-07-04T04:51:36",
          "2023-07-04T04:56:36",
          "2023-07-04T05:01:37",
          "2023-07-04T05:06:36",
          "2023-07-04T05:11:36",
          "2023-07-04T05:16:36",
          "2023-07-04T05:21:36",
          "2023-07-04T05:26:36",
          "2023-07-04T05:31:36",
          "2023-07-04T05:36:36",
          "2023-07-04T05:41:36",
          "2023-07-04T05:46:36",
          "2023-07-04T05:51:36",
          "2023-07-04T05:56:36",
          "2023-07-04T06:01:36",
          "2023-07-04T06:06:36",
          "2023-07-04T06:11:36",
          "2023-07-04T06:16:36",
          "2023-07-04T06:21:36",
          "2023-07-04T06:26:36",
          "2023-07-04T06:31:37",
          "2023-07-04T06:36:37",
          "2023-07-04T06:41:36",
          "2023-07-04T06:46:36",
          "2023-07-04T06:51:36",
          "2023-07-04T06:56:36",
          "2023-07-04T07:01:36",
          "2023-07-04T07:06:36",
          "2023-07-04T07:11:36",
          "2023-07-04T07:16:36",
          "2023-07-04T07:21:36",
          "2023-07-04T07:26:36",
          "2023-07-04T07:31:36",
          "2023-07-04T07:36:36",
          "2023-07-04T07:41:36",
          "2023-07-04T07:46:36",
          "2023-07-04T07:51:36",
          "2023-07-04T07:56:36",
          "2023-07-04T08:01:36",
          "2023-07-04T08:06:36",
          "2023-07-04T08:11:36",
          "2023-07-04T08:16:37",
          "2023-07-04T08:21:36",
          "2023-07-04T08:26:36",
          "2023-07-04T08:31:36"
         ],
         "xaxis": "x",
         "y": [
          23,
          23,
          22,
          10,
          15,
          26,
          26,
          27,
          27,
          20,
          24,
          26,
          20,
          29,
          30,
          29,
          18,
          20,
          30,
          33,
          34,
          32,
          34,
          36,
          36,
          37,
          38,
          38,
          39,
          40,
          38,
          33,
          42,
          35,
          30,
          43,
          40,
          42,
          45,
          40,
          43,
          37,
          45,
          49,
          48,
          50,
          51,
          51,
          54,
          51,
          51,
          53,
          53,
          53,
          54,
          54,
          55,
          60,
          11,
          9,
          11,
          13,
          14,
          14,
          14,
          16,
          15,
          15,
          9,
          12,
          12,
          14,
          11,
          11,
          10,
          10,
          9,
          6,
          5,
          7,
          4,
          3,
          3,
          2,
          2,
          1,
          1,
          1,
          0,
          0,
          0,
          0,
          0,
          0,
          0,
          0,
          0,
          0,
          0,
          0,
          0,
          0,
          0,
          0,
          0,
          0,
          0,
          0,
          0,
          0,
          0,
          0,
          0,
          0,
          0,
          0,
          0,
          0,
          0,
          0,
          0,
          0,
          0,
          0,
          0,
          0,
          0,
          0,
          0,
          0,
          0,
          0,
          0,
          0,
          0,
          0,
          0,
          0,
          0,
          0,
          0,
          0,
          0,
          0,
          0,
          0,
          0,
          0,
          3,
          5,
          4,
          6,
          5,
          9,
          10,
          10,
          10,
          10,
          10,
          10,
          10,
          0,
          0,
          0,
          0,
          0,
          0,
          0,
          0,
          0,
          0,
          0,
          0,
          0,
          0,
          0,
          0,
          0,
          0,
          0,
          0,
          0,
          0,
          0,
          0,
          0,
          0,
          0,
          0,
          0,
          0,
          0,
          0,
          0,
          0,
          0,
          0,
          0,
          0,
          0,
          0,
          0,
          0,
          0,
          0,
          0,
          0,
          0,
          1,
          1,
          2,
          2,
          3,
          4,
          5,
          5,
          7,
          7,
          8,
          9,
          8,
          10,
          11,
          12,
          10,
          13,
          13,
          13,
          14,
          15,
          11,
          16,
          17,
          17,
          17,
          17,
          14,
          11,
          19,
          20,
          17,
          20
         ],
         "yaxis": "y"
        }
       ],
       "layout": {
        "legend": {
         "title": {
          "text": "variable"
         },
         "tracegroupgap": 0
        },
        "template": {
         "data": {
          "bar": [
           {
            "error_x": {
             "color": "#2a3f5f"
            },
            "error_y": {
             "color": "#2a3f5f"
            },
            "marker": {
             "line": {
              "color": "#E5ECF6",
              "width": 0.5
             },
             "pattern": {
              "fillmode": "overlay",
              "size": 10,
              "solidity": 0.2
             }
            },
            "type": "bar"
           }
          ],
          "barpolar": [
           {
            "marker": {
             "line": {
              "color": "#E5ECF6",
              "width": 0.5
             },
             "pattern": {
              "fillmode": "overlay",
              "size": 10,
              "solidity": 0.2
             }
            },
            "type": "barpolar"
           }
          ],
          "carpet": [
           {
            "aaxis": {
             "endlinecolor": "#2a3f5f",
             "gridcolor": "white",
             "linecolor": "white",
             "minorgridcolor": "white",
             "startlinecolor": "#2a3f5f"
            },
            "baxis": {
             "endlinecolor": "#2a3f5f",
             "gridcolor": "white",
             "linecolor": "white",
             "minorgridcolor": "white",
             "startlinecolor": "#2a3f5f"
            },
            "type": "carpet"
           }
          ],
          "choropleth": [
           {
            "colorbar": {
             "outlinewidth": 0,
             "ticks": ""
            },
            "type": "choropleth"
           }
          ],
          "contour": [
           {
            "colorbar": {
             "outlinewidth": 0,
             "ticks": ""
            },
            "colorscale": [
             [
              0,
              "#0d0887"
             ],
             [
              0.1111111111111111,
              "#46039f"
             ],
             [
              0.2222222222222222,
              "#7201a8"
             ],
             [
              0.3333333333333333,
              "#9c179e"
             ],
             [
              0.4444444444444444,
              "#bd3786"
             ],
             [
              0.5555555555555556,
              "#d8576b"
             ],
             [
              0.6666666666666666,
              "#ed7953"
             ],
             [
              0.7777777777777778,
              "#fb9f3a"
             ],
             [
              0.8888888888888888,
              "#fdca26"
             ],
             [
              1,
              "#f0f921"
             ]
            ],
            "type": "contour"
           }
          ],
          "contourcarpet": [
           {
            "colorbar": {
             "outlinewidth": 0,
             "ticks": ""
            },
            "type": "contourcarpet"
           }
          ],
          "heatmap": [
           {
            "colorbar": {
             "outlinewidth": 0,
             "ticks": ""
            },
            "colorscale": [
             [
              0,
              "#0d0887"
             ],
             [
              0.1111111111111111,
              "#46039f"
             ],
             [
              0.2222222222222222,
              "#7201a8"
             ],
             [
              0.3333333333333333,
              "#9c179e"
             ],
             [
              0.4444444444444444,
              "#bd3786"
             ],
             [
              0.5555555555555556,
              "#d8576b"
             ],
             [
              0.6666666666666666,
              "#ed7953"
             ],
             [
              0.7777777777777778,
              "#fb9f3a"
             ],
             [
              0.8888888888888888,
              "#fdca26"
             ],
             [
              1,
              "#f0f921"
             ]
            ],
            "type": "heatmap"
           }
          ],
          "heatmapgl": [
           {
            "colorbar": {
             "outlinewidth": 0,
             "ticks": ""
            },
            "colorscale": [
             [
              0,
              "#0d0887"
             ],
             [
              0.1111111111111111,
              "#46039f"
             ],
             [
              0.2222222222222222,
              "#7201a8"
             ],
             [
              0.3333333333333333,
              "#9c179e"
             ],
             [
              0.4444444444444444,
              "#bd3786"
             ],
             [
              0.5555555555555556,
              "#d8576b"
             ],
             [
              0.6666666666666666,
              "#ed7953"
             ],
             [
              0.7777777777777778,
              "#fb9f3a"
             ],
             [
              0.8888888888888888,
              "#fdca26"
             ],
             [
              1,
              "#f0f921"
             ]
            ],
            "type": "heatmapgl"
           }
          ],
          "histogram": [
           {
            "marker": {
             "pattern": {
              "fillmode": "overlay",
              "size": 10,
              "solidity": 0.2
             }
            },
            "type": "histogram"
           }
          ],
          "histogram2d": [
           {
            "colorbar": {
             "outlinewidth": 0,
             "ticks": ""
            },
            "colorscale": [
             [
              0,
              "#0d0887"
             ],
             [
              0.1111111111111111,
              "#46039f"
             ],
             [
              0.2222222222222222,
              "#7201a8"
             ],
             [
              0.3333333333333333,
              "#9c179e"
             ],
             [
              0.4444444444444444,
              "#bd3786"
             ],
             [
              0.5555555555555556,
              "#d8576b"
             ],
             [
              0.6666666666666666,
              "#ed7953"
             ],
             [
              0.7777777777777778,
              "#fb9f3a"
             ],
             [
              0.8888888888888888,
              "#fdca26"
             ],
             [
              1,
              "#f0f921"
             ]
            ],
            "type": "histogram2d"
           }
          ],
          "histogram2dcontour": [
           {
            "colorbar": {
             "outlinewidth": 0,
             "ticks": ""
            },
            "colorscale": [
             [
              0,
              "#0d0887"
             ],
             [
              0.1111111111111111,
              "#46039f"
             ],
             [
              0.2222222222222222,
              "#7201a8"
             ],
             [
              0.3333333333333333,
              "#9c179e"
             ],
             [
              0.4444444444444444,
              "#bd3786"
             ],
             [
              0.5555555555555556,
              "#d8576b"
             ],
             [
              0.6666666666666666,
              "#ed7953"
             ],
             [
              0.7777777777777778,
              "#fb9f3a"
             ],
             [
              0.8888888888888888,
              "#fdca26"
             ],
             [
              1,
              "#f0f921"
             ]
            ],
            "type": "histogram2dcontour"
           }
          ],
          "mesh3d": [
           {
            "colorbar": {
             "outlinewidth": 0,
             "ticks": ""
            },
            "type": "mesh3d"
           }
          ],
          "parcoords": [
           {
            "line": {
             "colorbar": {
              "outlinewidth": 0,
              "ticks": ""
             }
            },
            "type": "parcoords"
           }
          ],
          "pie": [
           {
            "automargin": true,
            "type": "pie"
           }
          ],
          "scatter": [
           {
            "fillpattern": {
             "fillmode": "overlay",
             "size": 10,
             "solidity": 0.2
            },
            "type": "scatter"
           }
          ],
          "scatter3d": [
           {
            "line": {
             "colorbar": {
              "outlinewidth": 0,
              "ticks": ""
             }
            },
            "marker": {
             "colorbar": {
              "outlinewidth": 0,
              "ticks": ""
             }
            },
            "type": "scatter3d"
           }
          ],
          "scattercarpet": [
           {
            "marker": {
             "colorbar": {
              "outlinewidth": 0,
              "ticks": ""
             }
            },
            "type": "scattercarpet"
           }
          ],
          "scattergeo": [
           {
            "marker": {
             "colorbar": {
              "outlinewidth": 0,
              "ticks": ""
             }
            },
            "type": "scattergeo"
           }
          ],
          "scattergl": [
           {
            "marker": {
             "colorbar": {
              "outlinewidth": 0,
              "ticks": ""
             }
            },
            "type": "scattergl"
           }
          ],
          "scattermapbox": [
           {
            "marker": {
             "colorbar": {
              "outlinewidth": 0,
              "ticks": ""
             }
            },
            "type": "scattermapbox"
           }
          ],
          "scatterpolar": [
           {
            "marker": {
             "colorbar": {
              "outlinewidth": 0,
              "ticks": ""
             }
            },
            "type": "scatterpolar"
           }
          ],
          "scatterpolargl": [
           {
            "marker": {
             "colorbar": {
              "outlinewidth": 0,
              "ticks": ""
             }
            },
            "type": "scatterpolargl"
           }
          ],
          "scatterternary": [
           {
            "marker": {
             "colorbar": {
              "outlinewidth": 0,
              "ticks": ""
             }
            },
            "type": "scatterternary"
           }
          ],
          "surface": [
           {
            "colorbar": {
             "outlinewidth": 0,
             "ticks": ""
            },
            "colorscale": [
             [
              0,
              "#0d0887"
             ],
             [
              0.1111111111111111,
              "#46039f"
             ],
             [
              0.2222222222222222,
              "#7201a8"
             ],
             [
              0.3333333333333333,
              "#9c179e"
             ],
             [
              0.4444444444444444,
              "#bd3786"
             ],
             [
              0.5555555555555556,
              "#d8576b"
             ],
             [
              0.6666666666666666,
              "#ed7953"
             ],
             [
              0.7777777777777778,
              "#fb9f3a"
             ],
             [
              0.8888888888888888,
              "#fdca26"
             ],
             [
              1,
              "#f0f921"
             ]
            ],
            "type": "surface"
           }
          ],
          "table": [
           {
            "cells": {
             "fill": {
              "color": "#EBF0F8"
             },
             "line": {
              "color": "white"
             }
            },
            "header": {
             "fill": {
              "color": "#C8D4E3"
             },
             "line": {
              "color": "white"
             }
            },
            "type": "table"
           }
          ]
         },
         "layout": {
          "annotationdefaults": {
           "arrowcolor": "#2a3f5f",
           "arrowhead": 0,
           "arrowwidth": 1
          },
          "autotypenumbers": "strict",
          "coloraxis": {
           "colorbar": {
            "outlinewidth": 0,
            "ticks": ""
           }
          },
          "colorscale": {
           "diverging": [
            [
             0,
             "#8e0152"
            ],
            [
             0.1,
             "#c51b7d"
            ],
            [
             0.2,
             "#de77ae"
            ],
            [
             0.3,
             "#f1b6da"
            ],
            [
             0.4,
             "#fde0ef"
            ],
            [
             0.5,
             "#f7f7f7"
            ],
            [
             0.6,
             "#e6f5d0"
            ],
            [
             0.7,
             "#b8e186"
            ],
            [
             0.8,
             "#7fbc41"
            ],
            [
             0.9,
             "#4d9221"
            ],
            [
             1,
             "#276419"
            ]
           ],
           "sequential": [
            [
             0,
             "#0d0887"
            ],
            [
             0.1111111111111111,
             "#46039f"
            ],
            [
             0.2222222222222222,
             "#7201a8"
            ],
            [
             0.3333333333333333,
             "#9c179e"
            ],
            [
             0.4444444444444444,
             "#bd3786"
            ],
            [
             0.5555555555555556,
             "#d8576b"
            ],
            [
             0.6666666666666666,
             "#ed7953"
            ],
            [
             0.7777777777777778,
             "#fb9f3a"
            ],
            [
             0.8888888888888888,
             "#fdca26"
            ],
            [
             1,
             "#f0f921"
            ]
           ],
           "sequentialminus": [
            [
             0,
             "#0d0887"
            ],
            [
             0.1111111111111111,
             "#46039f"
            ],
            [
             0.2222222222222222,
             "#7201a8"
            ],
            [
             0.3333333333333333,
             "#9c179e"
            ],
            [
             0.4444444444444444,
             "#bd3786"
            ],
            [
             0.5555555555555556,
             "#d8576b"
            ],
            [
             0.6666666666666666,
             "#ed7953"
            ],
            [
             0.7777777777777778,
             "#fb9f3a"
            ],
            [
             0.8888888888888888,
             "#fdca26"
            ],
            [
             1,
             "#f0f921"
            ]
           ]
          },
          "colorway": [
           "#636efa",
           "#EF553B",
           "#00cc96",
           "#ab63fa",
           "#FFA15A",
           "#19d3f3",
           "#FF6692",
           "#B6E880",
           "#FF97FF",
           "#FECB52"
          ],
          "font": {
           "color": "#2a3f5f"
          },
          "geo": {
           "bgcolor": "white",
           "lakecolor": "white",
           "landcolor": "#E5ECF6",
           "showlakes": true,
           "showland": true,
           "subunitcolor": "white"
          },
          "hoverlabel": {
           "align": "left"
          },
          "hovermode": "closest",
          "mapbox": {
           "style": "light"
          },
          "paper_bgcolor": "white",
          "plot_bgcolor": "#E5ECF6",
          "polar": {
           "angularaxis": {
            "gridcolor": "white",
            "linecolor": "white",
            "ticks": ""
           },
           "bgcolor": "#E5ECF6",
           "radialaxis": {
            "gridcolor": "white",
            "linecolor": "white",
            "ticks": ""
           }
          },
          "scene": {
           "xaxis": {
            "backgroundcolor": "#E5ECF6",
            "gridcolor": "white",
            "gridwidth": 2,
            "linecolor": "white",
            "showbackground": true,
            "ticks": "",
            "zerolinecolor": "white"
           },
           "yaxis": {
            "backgroundcolor": "#E5ECF6",
            "gridcolor": "white",
            "gridwidth": 2,
            "linecolor": "white",
            "showbackground": true,
            "ticks": "",
            "zerolinecolor": "white"
           },
           "zaxis": {
            "backgroundcolor": "#E5ECF6",
            "gridcolor": "white",
            "gridwidth": 2,
            "linecolor": "white",
            "showbackground": true,
            "ticks": "",
            "zerolinecolor": "white"
           }
          },
          "shapedefaults": {
           "line": {
            "color": "#2a3f5f"
           }
          },
          "ternary": {
           "aaxis": {
            "gridcolor": "white",
            "linecolor": "white",
            "ticks": ""
           },
           "baxis": {
            "gridcolor": "white",
            "linecolor": "white",
            "ticks": ""
           },
           "bgcolor": "#E5ECF6",
           "caxis": {
            "gridcolor": "white",
            "linecolor": "white",
            "ticks": ""
           }
          },
          "title": {
           "x": 0.05
          },
          "xaxis": {
           "automargin": true,
           "gridcolor": "white",
           "linecolor": "white",
           "ticks": "",
           "title": {
            "standoff": 15
           },
           "zerolinecolor": "white",
           "zerolinewidth": 2
          },
          "yaxis": {
           "automargin": true,
           "gridcolor": "white",
           "linecolor": "white",
           "ticks": "",
           "title": {
            "standoff": 15
           },
           "zerolinecolor": "white",
           "zerolinewidth": 2
          }
         }
        },
        "title": {
         "text": "temperature Light Intensity across the day"
        },
        "xaxis": {
         "anchor": "y",
         "domain": [
          0,
          1
         ],
         "title": {
          "text": "date_time"
         }
        },
        "yaxis": {
         "anchor": "x",
         "domain": [
          0,
          1
         ],
         "title": {
          "text": "value"
         }
        }
       }
      }
     },
     "metadata": {},
     "output_type": "display_data"
    }
   ],
   "source": [
    "fig = px.line(df['temp'],title=\"temperature across the day\")\n",
    "fig2 = px.line(df['light'],title=\"Light Intensity across the day\")\n",
    "fig3 = px.line(df,title=\"temperature Light Intensity across the day\")\n",
    "fig.show()\n",
    "fig2.show()\n",
    "fig3.show()"
   ]
  },
  {
   "cell_type": "code",
   "execution_count": null,
   "metadata": {},
   "outputs": [],
   "source": []
  }
 ],
 "metadata": {
  "kernelspec": {
   "display_name": "Python 3",
   "language": "python",
   "name": "python3"
  },
  "language_info": {
   "codemirror_mode": {
    "name": "ipython",
    "version": 3
   },
   "file_extension": ".py",
   "mimetype": "text/x-python",
   "name": "python",
   "nbconvert_exporter": "python",
   "pygments_lexer": "ipython3",
   "version": "3.10.4"
  },
  "orig_nbformat": 4
 },
 "nbformat": 4,
 "nbformat_minor": 2
}
